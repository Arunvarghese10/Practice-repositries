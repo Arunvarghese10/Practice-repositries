{
 "cells": [
  {
   "cell_type": "markdown",
   "id": "879235a9",
   "metadata": {},
   "source": [
    "## Goal\n",
    "#### In this challenge, participants will predict house rents using data science methods, machine learning, and hyperparameter tuning.\n",
    "\n",
    "### Metric\n",
    "* The submission will be evaluated using the RMSE metric. One can use ‘np. sqrt (Mean Squared Error)’ to calculate the same. [mean_squared_error(y_true, y_pred, squared=False)]\n",
    "* The lower the RMSE, the better the score would be.\n",
    "\n",
    "\n",
    "#### How to Generate the Submission File\n",
    "* The participant should submit a .csv file with exactly  20203 rows with 2 column [\"Property_ID, 'price']. The submission will return an Invalid Score if you have extra rows or columns.\n",
    "* The file should have exactly 2 columns.\n",
    "\n",
    "\n",
    "## Metadata\n",
    "\n",
    "* 'Property_ID', = Unique id of the property\n",
    "* 'room',  No. of rooms available\n",
    "* ('layout_type',  ['BHK' 'RK']\n",
    "* 'property_type', = ['Apartment' 'Studio Apartment' 'Independent Floor' 'Independent House' 'Villa' 'Penthouse']\n",
    "* 'locality',  = Overall Locality description\n",
    "* 'price', = Rent in INR\n",
    "* 'area', = in Square Feet\n",
    "* 'furnish_type', ['Semi-Furnished' 'Furnished' 'Unfurnished']\n",
    "* 'bathroom',: No. of Bathrooms\n",
    "* 'city', : ['Ahmedabad' 'Bangalore' 'Chennai' 'Delhi' 'Hyderabad' 'Kolkata' 'Mumbai' 'Pune']\n",
    "* 'parking_spaces',: 1 or 0  : 1 = Yes, 0 = No\n",
    "* 'floor',: Floor from 0 to 20\n",
    "* 'pet_friendly', : 1 or 0  : 1 = Yes, 0 = No\n",
    "* 'power_backup', : 1 or 0  : 1 = Yes, 0 = No\n",
    "* 'washing_machine',: 1 or 0  : 1 = Yes, 0 = No\n",
    "* 'air_conditioner', : 1 or 0  : 1 = Yes, 0 = No\n",
    "* 'geyser/solar',: 1 or 0  : 1 = Yes, 0 = No\n",
    "* 'security_deposit', Amount of Security Deposit\n",
    "* 'neighborhood', : Nearest Metro/Bus/Mall in meters\n",
    "* 'CCTV/security : CCTV available 1 or 0  : 1 = Yes, 0 = No\n",
    "* 'lift': 1 or 0  : 1 = Yes, 0 = No"
   ]
  },
  {
   "cell_type": "code",
   "execution_count": 1,
   "id": "0478f9b4",
   "metadata": {},
   "outputs": [],
   "source": [
    "import numpy as np\n",
    "import pandas as pd\n",
    "import seaborn as sns\n",
    "import matplotlib.pyplot as plt\n",
    "\n",
    "import warnings\n",
    "warnings.filterwarnings('ignore')\n",
    "pd.set_option('display.max_columns', 50)"
   ]
  },
  {
   "cell_type": "code",
   "execution_count": 2,
   "id": "3f890d50",
   "metadata": {},
   "outputs": [],
   "source": [
    "# importing train and test data set\n",
    "train = pd.read_csv('train_csv2022.csv')\n",
    "test = pd.read_csv('test_csv2022.csv')"
   ]
  },
  {
   "cell_type": "code",
   "execution_count": 3,
   "id": "ddb3a714",
   "metadata": {},
   "outputs": [
    {
     "data": {
      "text/plain": [
       "((114480, 21), (20203, 20))"
      ]
     },
     "execution_count": 3,
     "metadata": {},
     "output_type": "execute_result"
    }
   ],
   "source": [
    "train.shape, test.shape"
   ]
  },
  {
   "cell_type": "markdown",
   "id": "c55a9942",
   "metadata": {},
   "source": [
    "# Exploratory Data Analysis"
   ]
  },
  {
   "cell_type": "code",
   "execution_count": 4,
   "id": "2140a6bf",
   "metadata": {},
   "outputs": [],
   "source": [
    "combined = pd.concat([train, test], ignore_index = True)"
   ]
  },
  {
   "cell_type": "code",
   "execution_count": 5,
   "id": "4a6861d0",
   "metadata": {},
   "outputs": [
    {
     "data": {
      "text/plain": [
       "(134683, 21)"
      ]
     },
     "execution_count": 5,
     "metadata": {},
     "output_type": "execute_result"
    }
   ],
   "source": [
    "combined.shape"
   ]
  },
  {
   "cell_type": "code",
   "execution_count": 6,
   "id": "322843a5",
   "metadata": {},
   "outputs": [
    {
     "name": "stdout",
     "output_type": "stream",
     "text": [
      "<class 'pandas.core.frame.DataFrame'>\n",
      "RangeIndex: 134683 entries, 0 to 134682\n",
      "Data columns (total 21 columns):\n",
      " #   Column            Non-Null Count   Dtype  \n",
      "---  ------            --------------   -----  \n",
      " 0   Property_ID       134683 non-null  int64  \n",
      " 1   room              134683 non-null  int64  \n",
      " 2   layout_type       134683 non-null  object \n",
      " 3   property_type     134683 non-null  object \n",
      " 4   locality          134683 non-null  object \n",
      " 5   area              134683 non-null  int64  \n",
      " 6   furnish_type      134683 non-null  object \n",
      " 7   bathroom          134683 non-null  int64  \n",
      " 8   city              134683 non-null  object \n",
      " 9   parking_spaces    134683 non-null  int64  \n",
      " 10  floor             134683 non-null  int64  \n",
      " 11  pet_friendly      134683 non-null  int64  \n",
      " 12  power_backup      134683 non-null  int64  \n",
      " 13  washing_machine   134683 non-null  int64  \n",
      " 14  air_conditioner   134683 non-null  int64  \n",
      " 15  geyser/solar      134683 non-null  int64  \n",
      " 16  security_deposit  134683 non-null  int64  \n",
      " 17  CCTV/security     134683 non-null  int64  \n",
      " 18  lift              134683 non-null  int64  \n",
      " 19  neighbourhood     134683 non-null  int64  \n",
      " 20  price             114480 non-null  float64\n",
      "dtypes: float64(1), int64(15), object(5)\n",
      "memory usage: 21.6+ MB\n"
     ]
    }
   ],
   "source": [
    "combined.info()"
   ]
  },
  {
   "cell_type": "code",
   "execution_count": 7,
   "id": "f152b7fd",
   "metadata": {},
   "outputs": [
    {
     "data": {
      "text/html": [
       "<div>\n",
       "<style scoped>\n",
       "    .dataframe tbody tr th:only-of-type {\n",
       "        vertical-align: middle;\n",
       "    }\n",
       "\n",
       "    .dataframe tbody tr th {\n",
       "        vertical-align: top;\n",
       "    }\n",
       "\n",
       "    .dataframe thead th {\n",
       "        text-align: right;\n",
       "    }\n",
       "</style>\n",
       "<table border=\"1\" class=\"dataframe\">\n",
       "  <thead>\n",
       "    <tr style=\"text-align: right;\">\n",
       "      <th></th>\n",
       "      <th>Property_ID</th>\n",
       "      <th>room</th>\n",
       "      <th>layout_type</th>\n",
       "      <th>property_type</th>\n",
       "      <th>locality</th>\n",
       "      <th>area</th>\n",
       "      <th>furnish_type</th>\n",
       "      <th>bathroom</th>\n",
       "      <th>city</th>\n",
       "      <th>parking_spaces</th>\n",
       "      <th>floor</th>\n",
       "      <th>pet_friendly</th>\n",
       "      <th>power_backup</th>\n",
       "      <th>washing_machine</th>\n",
       "      <th>air_conditioner</th>\n",
       "      <th>geyser/solar</th>\n",
       "      <th>security_deposit</th>\n",
       "      <th>CCTV/security</th>\n",
       "      <th>lift</th>\n",
       "      <th>neighbourhood</th>\n",
       "      <th>price</th>\n",
       "    </tr>\n",
       "  </thead>\n",
       "  <tbody>\n",
       "    <tr>\n",
       "      <th>0</th>\n",
       "      <td>100361</td>\n",
       "      <td>4</td>\n",
       "      <td>BHK</td>\n",
       "      <td>Apartment</td>\n",
       "      <td>Sodepur</td>\n",
       "      <td>805</td>\n",
       "      <td>Furnished</td>\n",
       "      <td>2</td>\n",
       "      <td>Kolkata</td>\n",
       "      <td>1</td>\n",
       "      <td>3</td>\n",
       "      <td>0</td>\n",
       "      <td>0</td>\n",
       "      <td>0</td>\n",
       "      <td>1</td>\n",
       "      <td>0</td>\n",
       "      <td>33012</td>\n",
       "      <td>0</td>\n",
       "      <td>0</td>\n",
       "      <td>1500</td>\n",
       "      <td>4716.0</td>\n",
       "    </tr>\n",
       "    <tr>\n",
       "      <th>1</th>\n",
       "      <td>66785</td>\n",
       "      <td>2</td>\n",
       "      <td>BHK</td>\n",
       "      <td>Apartment</td>\n",
       "      <td>Geetanjali Enclave</td>\n",
       "      <td>1093</td>\n",
       "      <td>Furnished</td>\n",
       "      <td>2</td>\n",
       "      <td>Delhi</td>\n",
       "      <td>1</td>\n",
       "      <td>9</td>\n",
       "      <td>0</td>\n",
       "      <td>0</td>\n",
       "      <td>0</td>\n",
       "      <td>1</td>\n",
       "      <td>0</td>\n",
       "      <td>74907</td>\n",
       "      <td>1</td>\n",
       "      <td>1</td>\n",
       "      <td>300</td>\n",
       "      <td>24969.0</td>\n",
       "    </tr>\n",
       "    <tr>\n",
       "      <th>2</th>\n",
       "      <td>120243</td>\n",
       "      <td>2</td>\n",
       "      <td>RK</td>\n",
       "      <td>Independent Floor</td>\n",
       "      <td>Ghatkopar West</td>\n",
       "      <td>1227</td>\n",
       "      <td>Unfurnished</td>\n",
       "      <td>2</td>\n",
       "      <td>Mumbai</td>\n",
       "      <td>0</td>\n",
       "      <td>2</td>\n",
       "      <td>0</td>\n",
       "      <td>0</td>\n",
       "      <td>0</td>\n",
       "      <td>0</td>\n",
       "      <td>0</td>\n",
       "      <td>217314</td>\n",
       "      <td>1</td>\n",
       "      <td>0</td>\n",
       "      <td>1300</td>\n",
       "      <td>24146.0</td>\n",
       "    </tr>\n",
       "    <tr>\n",
       "      <th>3</th>\n",
       "      <td>96487</td>\n",
       "      <td>1</td>\n",
       "      <td>BHK</td>\n",
       "      <td>Apartment</td>\n",
       "      <td>New Town</td>\n",
       "      <td>1022</td>\n",
       "      <td>Furnished</td>\n",
       "      <td>3</td>\n",
       "      <td>Kolkata</td>\n",
       "      <td>0</td>\n",
       "      <td>8</td>\n",
       "      <td>1</td>\n",
       "      <td>0</td>\n",
       "      <td>0</td>\n",
       "      <td>1</td>\n",
       "      <td>0</td>\n",
       "      <td>217560</td>\n",
       "      <td>1</td>\n",
       "      <td>1</td>\n",
       "      <td>3600</td>\n",
       "      <td>36260.0</td>\n",
       "    </tr>\n",
       "    <tr>\n",
       "      <th>4</th>\n",
       "      <td>95695</td>\n",
       "      <td>2</td>\n",
       "      <td>BHK</td>\n",
       "      <td>Apartment</td>\n",
       "      <td>New Town</td>\n",
       "      <td>1403</td>\n",
       "      <td>Semi-Furnished</td>\n",
       "      <td>2</td>\n",
       "      <td>Kolkata</td>\n",
       "      <td>0</td>\n",
       "      <td>7</td>\n",
       "      <td>1</td>\n",
       "      <td>1</td>\n",
       "      <td>1</td>\n",
       "      <td>1</td>\n",
       "      <td>0</td>\n",
       "      <td>704624</td>\n",
       "      <td>1</td>\n",
       "      <td>1</td>\n",
       "      <td>200</td>\n",
       "      <td>176156.0</td>\n",
       "    </tr>\n",
       "  </tbody>\n",
       "</table>\n",
       "</div>"
      ],
      "text/plain": [
       "   Property_ID  room layout_type      property_type            locality  area  \\\n",
       "0       100361     4         BHK          Apartment             Sodepur   805   \n",
       "1        66785     2         BHK          Apartment  Geetanjali Enclave  1093   \n",
       "2       120243     2          RK  Independent Floor      Ghatkopar West  1227   \n",
       "3        96487     1         BHK          Apartment            New Town  1022   \n",
       "4        95695     2         BHK          Apartment            New Town  1403   \n",
       "\n",
       "     furnish_type  bathroom     city  parking_spaces  floor  pet_friendly  \\\n",
       "0       Furnished         2  Kolkata               1      3             0   \n",
       "1       Furnished         2    Delhi               1      9             0   \n",
       "2     Unfurnished         2   Mumbai               0      2             0   \n",
       "3       Furnished         3  Kolkata               0      8             1   \n",
       "4  Semi-Furnished         2  Kolkata               0      7             1   \n",
       "\n",
       "   power_backup  washing_machine  air_conditioner  geyser/solar  \\\n",
       "0             0                0                1             0   \n",
       "1             0                0                1             0   \n",
       "2             0                0                0             0   \n",
       "3             0                0                1             0   \n",
       "4             1                1                1             0   \n",
       "\n",
       "   security_deposit  CCTV/security  lift  neighbourhood     price  \n",
       "0             33012              0     0           1500    4716.0  \n",
       "1             74907              1     1            300   24969.0  \n",
       "2            217314              1     0           1300   24146.0  \n",
       "3            217560              1     1           3600   36260.0  \n",
       "4            704624              1     1            200  176156.0  "
      ]
     },
     "execution_count": 7,
     "metadata": {},
     "output_type": "execute_result"
    }
   ],
   "source": [
    "combined.head()"
   ]
  },
  {
   "cell_type": "code",
   "execution_count": 8,
   "id": "0d1d4473",
   "metadata": {},
   "outputs": [
    {
     "data": {
      "text/plain": [
       "Index(['Property_ID', 'room', 'area', 'bathroom', 'parking_spaces', 'floor',\n",
       "       'pet_friendly', 'power_backup', 'washing_machine', 'air_conditioner',\n",
       "       'geyser/solar', 'security_deposit', 'CCTV/security', 'lift',\n",
       "       'neighbourhood', 'price'],\n",
       "      dtype='object')"
      ]
     },
     "execution_count": 8,
     "metadata": {},
     "output_type": "execute_result"
    }
   ],
   "source": [
    "# Numerical variables\n",
    "\n",
    "nums = combined.select_dtypes(include = np.number).columns\n",
    "nums"
   ]
  },
  {
   "cell_type": "code",
   "execution_count": 9,
   "id": "c3ffe1ab",
   "metadata": {},
   "outputs": [
    {
     "data": {
      "image/png": "[encoded data removed]",
      "text/plain": [
       "<Figure size 432x288 with 3 Axes>"
      ]
     },
     "metadata": {
      "needs_background": "light"
     },
     "output_type": "display_data"
    }
   ],
   "source": [
    "cols = ['area', 'security_deposit', 'price']\n",
    "t = 1\n",
    "for i in cols:\n",
    "    plt.subplot(2,2,t)\n",
    "    sns.distplot(combined[i])\n",
    "    t += 1\n",
    "    plt.tight_layout()\n",
    "plt.show()\n",
    "\n",
    "# All variables are skewed in nature."
   ]
  },
  {
   "cell_type": "code",
   "execution_count": 10,
   "id": "bbcbf2ee",
   "metadata": {},
   "outputs": [
    {
     "data": {
      "text/plain": [
       "Index(['layout_type', 'property_type', 'locality', 'furnish_type', 'city'], dtype='object')"
      ]
     },
     "execution_count": 10,
     "metadata": {},
     "output_type": "execute_result"
    }
   ],
   "source": [
    "# categorical variables\n",
    "cat_cols = combined.select_dtypes(include = 'object').columns\n",
    "cat_cols "
   ]
  },
  {
   "cell_type": "code",
   "execution_count": 11,
   "id": "cefcc39a",
   "metadata": {},
   "outputs": [
    {
     "data": {
      "text/plain": [
       "Mumbai       46910\n",
       "Delhi        22826\n",
       "Bangalore    16092\n",
       "Pune         15713\n",
       "Ahmedabad    12976\n",
       "Hyderabad     7334\n",
       "Kolkata       6795\n",
       "Chennai       6037\n",
       "Name: city, dtype: int64"
      ]
     },
     "execution_count": 11,
     "metadata": {},
     "output_type": "execute_result"
    }
   ],
   "source": [
    "combined.city.value_counts()"
   ]
  },
  {
   "cell_type": "code",
   "execution_count": 12,
   "id": "3f207607",
   "metadata": {},
   "outputs": [
    {
     "data": {
      "text/plain": [
       "15"
      ]
     },
     "execution_count": 12,
     "metadata": {},
     "output_type": "execute_result"
    }
   ],
   "source": [
    "col_c = ['layout_type', 'property_type', 'city', 'furnish_type', 'room', 'bathroom', \n",
    "         'parking_spaces', 'floor',\n",
    "       'pet_friendly', 'power_backup', 'washing_machine', 'air_conditioner',\n",
    "       'geyser/solar',  'CCTV/security', 'lift']\n",
    "len(col_c)"
   ]
  },
  {
   "cell_type": "code",
   "execution_count": 13,
   "id": "4132aaa6",
   "metadata": {},
   "outputs": [
    {
     "data": {
      "image/png": "[encoded data removed]",
      "text/plain": [
       "<Figure size 1440x1224 with 15 Axes>"
      ]
     },
     "metadata": {
      "needs_background": "light"
     },
     "output_type": "display_data"
    }
   ],
   "source": [
    "# visual presentation of categorical columns\n",
    "plt.rcParams['figure.figsize'] = (20,17)\n",
    "t = 1\n",
    "for i in col_c:\n",
    "    plt.subplot(5,3,t)\n",
    "    sns.countplot(combined[i])\n",
    "    t += 1\n",
    "    plt.tight_layout()\n",
    "plt.show()\n"
   ]
  },
  {
   "cell_type": "markdown",
   "id": "a1dbd0e0",
   "metadata": {},
   "source": [
    "#### Inferences:\n",
    "* Most of the House rentals are seen in **Mumbai**\n",
    "* Most of the properties have lift followed by CCTV and AC\n",
    "* Properties dont have Geysers followed by Washing Machine and no power backup\n",
    "* There are pet friendly Houses in data\n",
    "* No. of Bedrooms ranges from 1 to 5\n",
    "* Max Bedrooms are 5 and in data house ranges from 1BHK to 5BHK\n",
    "* Most od the rentals are semi-furnished.\n",
    "* Frequency of Apartments are more than any other types of properties in the data\n",
    "* Generally people prefer rental on **2nd floor**."
   ]
  },
  {
   "cell_type": "code",
   "execution_count": 14,
   "id": "61fcb076",
   "metadata": {},
   "outputs": [
    {
     "data": {
      "text/plain": [
       "Property_ID             0\n",
       "room                    0\n",
       "layout_type             0\n",
       "property_type           0\n",
       "locality                0\n",
       "area                    0\n",
       "furnish_type            0\n",
       "bathroom                0\n",
       "city                    0\n",
       "parking_spaces          0\n",
       "floor                   0\n",
       "pet_friendly            0\n",
       "power_backup            0\n",
       "washing_machine         0\n",
       "air_conditioner         0\n",
       "geyser/solar            0\n",
       "security_deposit        0\n",
       "CCTV/security           0\n",
       "lift                    0\n",
       "neighbourhood           0\n",
       "price               20203\n",
       "dtype: int64"
      ]
     },
     "execution_count": 14,
     "metadata": {},
     "output_type": "execute_result"
    }
   ],
   "source": [
    "# check missing values\n",
    "combined.isnull().sum()"
   ]
  },
  {
   "cell_type": "code",
   "execution_count": 15,
   "id": "ebd15002",
   "metadata": {},
   "outputs": [],
   "source": [
    "plt.rcParams['figure.figsize'] = (12,8)"
   ]
  },
  {
   "cell_type": "code",
   "execution_count": 16,
   "id": "de32015e",
   "metadata": {},
   "outputs": [
    {
     "data": {
      "text/plain": [
       "<AxesSubplot:xlabel='area', ylabel='price'>"
      ]
     },
     "execution_count": 16,
     "metadata": {},
     "output_type": "execute_result"
    },
    {
     "data": {
      "image/png": "[encoded data removed]",
      "text/plain": [
       "<Figure size 864x576 with 1 Axes>"
      ]
     },
     "metadata": {
      "needs_background": "light"
     },
     "output_type": "display_data"
    }
   ],
   "source": [
    "# Univariate Analysis\n",
    "# area vs Price\n",
    "sns.scatterplot(x = 'area', y = 'price', data = combined)"
   ]
  },
  {
   "cell_type": "code",
   "execution_count": 17,
   "id": "9acbb5dd",
   "metadata": {},
   "outputs": [
    {
     "data": {
      "text/html": [
       "<div>\n",
       "<style scoped>\n",
       "    .dataframe tbody tr th:only-of-type {\n",
       "        vertical-align: middle;\n",
       "    }\n",
       "\n",
       "    .dataframe tbody tr th {\n",
       "        vertical-align: top;\n",
       "    }\n",
       "\n",
       "    .dataframe thead th {\n",
       "        text-align: right;\n",
       "    }\n",
       "</style>\n",
       "<table border=\"1\" class=\"dataframe\">\n",
       "  <thead>\n",
       "    <tr style=\"text-align: right;\">\n",
       "      <th></th>\n",
       "      <th>area</th>\n",
       "      <th>price</th>\n",
       "    </tr>\n",
       "  </thead>\n",
       "  <tbody>\n",
       "    <tr>\n",
       "      <th>area</th>\n",
       "      <td>1.000000</td>\n",
       "      <td>0.021358</td>\n",
       "    </tr>\n",
       "    <tr>\n",
       "      <th>price</th>\n",
       "      <td>0.021358</td>\n",
       "      <td>1.000000</td>\n",
       "    </tr>\n",
       "  </tbody>\n",
       "</table>\n",
       "</div>"
      ],
      "text/plain": [
       "           area     price\n",
       "area   1.000000  0.021358\n",
       "price  0.021358  1.000000"
      ]
     },
     "execution_count": 17,
     "metadata": {},
     "output_type": "execute_result"
    }
   ],
   "source": [
    "combined.loc[:, ['area', 'price']].corr()"
   ]
  },
  {
   "cell_type": "code",
   "execution_count": 18,
   "id": "ade610ca",
   "metadata": {},
   "outputs": [
    {
     "data": {
      "text/plain": [
       "<AxesSubplot:xlabel='security_deposit', ylabel='price'>"
      ]
     },
     "execution_count": 18,
     "metadata": {},
     "output_type": "execute_result"
    },
    {
     "data": {
      "image/png": "[encoded data removed]",
      "text/plain": [
       "<Figure size 864x576 with 1 Axes>"
      ]
     },
     "metadata": {
      "needs_background": "light"
     },
     "output_type": "display_data"
    }
   ],
   "source": [
    "# security deposit vs price\n",
    "sns.scatterplot(x = 'security_deposit', y = 'price', data = combined)\n",
    "\n",
    "# security deposit varies a lot with th erental price"
   ]
  },
  {
   "cell_type": "code",
   "execution_count": 19,
   "id": "e0429d80",
   "metadata": {},
   "outputs": [
    {
     "data": {
      "text/html": [
       "<div>\n",
       "<style scoped>\n",
       "    .dataframe tbody tr th:only-of-type {\n",
       "        vertical-align: middle;\n",
       "    }\n",
       "\n",
       "    .dataframe tbody tr th {\n",
       "        vertical-align: top;\n",
       "    }\n",
       "\n",
       "    .dataframe thead th {\n",
       "        text-align: right;\n",
       "    }\n",
       "</style>\n",
       "<table border=\"1\" class=\"dataframe\">\n",
       "  <thead>\n",
       "    <tr style=\"text-align: right;\">\n",
       "      <th></th>\n",
       "      <th>security_deposit</th>\n",
       "      <th>price</th>\n",
       "    </tr>\n",
       "  </thead>\n",
       "  <tbody>\n",
       "    <tr>\n",
       "      <th>security_deposit</th>\n",
       "      <td>1.000000</td>\n",
       "      <td>0.898108</td>\n",
       "    </tr>\n",
       "    <tr>\n",
       "      <th>price</th>\n",
       "      <td>0.898108</td>\n",
       "      <td>1.000000</td>\n",
       "    </tr>\n",
       "  </tbody>\n",
       "</table>\n",
       "</div>"
      ],
      "text/plain": [
       "                  security_deposit     price\n",
       "security_deposit          1.000000  0.898108\n",
       "price                     0.898108  1.000000"
      ]
     },
     "execution_count": 19,
     "metadata": {},
     "output_type": "execute_result"
    }
   ],
   "source": [
    "combined.loc[:, ['security_deposit', 'price']].corr()"
   ]
  },
  {
   "cell_type": "code",
   "execution_count": 20,
   "id": "efc1269f",
   "metadata": {},
   "outputs": [
    {
     "data": {
      "text/plain": [
       "<AxesSubplot:xlabel='neighbourhood', ylabel='price'>"
      ]
     },
     "execution_count": 20,
     "metadata": {},
     "output_type": "execute_result"
    },
    {
     "data": {
      "image/png": "[encoded data removed]",
      "text/plain": [
       "<Figure size 720x432 with 1 Axes>"
      ]
     },
     "metadata": {
      "needs_background": "light"
     },
     "output_type": "display_data"
    }
   ],
   "source": [
    "# neighbourhood vs price\n",
    "#sns.scatterplot(x = 'neighbourhood', y = 'price', data = combined)\n",
    "plt.rcParams['figure.figsize'] = (10,6)\n",
    "\n",
    "sns.scatterplot(x = 'neighbourhood', y = 'price', data = combined)\n"
   ]
  },
  {
   "cell_type": "code",
   "execution_count": 21,
   "id": "4c69c16f",
   "metadata": {},
   "outputs": [],
   "source": [
    "# conver distance in KMS\n",
    "combined['neighbourhood'] = combined['neighbourhood']/1000\n",
    "\n",
    "# no effect seein in scatterplot"
   ]
  },
  {
   "cell_type": "code",
   "execution_count": 22,
   "id": "1ebfd69b",
   "metadata": {},
   "outputs": [
    {
     "data": {
      "text/plain": [
       "count    134683.000000\n",
       "mean          2.033024\n",
       "std           1.159636\n",
       "min           0.000000\n",
       "25%           1.100000\n",
       "50%           2.000000\n",
       "75%           3.000000\n",
       "max           4.000000\n",
       "Name: neighbourhood, dtype: float64"
      ]
     },
     "execution_count": 22,
     "metadata": {},
     "output_type": "execute_result"
    }
   ],
   "source": [
    "# let's bin the neighberhood in : viscinity, proximit , near and far\n",
    "combined['neighbourhood'].describe()"
   ]
  },
  {
   "cell_type": "code",
   "execution_count": 23,
   "id": "4b968570",
   "metadata": {},
   "outputs": [],
   "source": [
    "def distance(x):\n",
    "    if x< 2:\n",
    "        return 'Near'\n",
    "    else:\n",
    "        return 'Far'"
   ]
  },
  {
   "cell_type": "code",
   "execution_count": 24,
   "id": "41ddcbe9",
   "metadata": {},
   "outputs": [],
   "source": [
    "# binning 'neighbourhood' columns\n",
    "combined['Neighbour_dist'] = combined['neighbourhood'].apply(distance)"
   ]
  },
  {
   "cell_type": "code",
   "execution_count": 25,
   "id": "93943d85",
   "metadata": {},
   "outputs": [
    {
     "data": {
      "text/plain": [
       "Far     68334\n",
       "Near    66349\n",
       "Name: Neighbour_dist, dtype: int64"
      ]
     },
     "execution_count": 25,
     "metadata": {},
     "output_type": "execute_result"
    }
   ],
   "source": [
    "combined['Neighbour_dist'].value_counts()"
   ]
  },
  {
   "cell_type": "code",
   "execution_count": 26,
   "id": "3e7971f1",
   "metadata": {},
   "outputs": [
    {
     "data": {
      "text/html": [
       "<div>\n",
       "<style scoped>\n",
       "    .dataframe tbody tr th:only-of-type {\n",
       "        vertical-align: middle;\n",
       "    }\n",
       "\n",
       "    .dataframe tbody tr th {\n",
       "        vertical-align: top;\n",
       "    }\n",
       "\n",
       "    .dataframe thead th {\n",
       "        text-align: right;\n",
       "    }\n",
       "</style>\n",
       "<table border=\"1\" class=\"dataframe\">\n",
       "  <thead>\n",
       "    <tr style=\"text-align: right;\">\n",
       "      <th></th>\n",
       "      <th>count</th>\n",
       "      <th>mean</th>\n",
       "      <th>std</th>\n",
       "      <th>min</th>\n",
       "      <th>25%</th>\n",
       "      <th>50%</th>\n",
       "      <th>75%</th>\n",
       "      <th>max</th>\n",
       "    </tr>\n",
       "    <tr>\n",
       "      <th>Neighbour_dist</th>\n",
       "      <th></th>\n",
       "      <th></th>\n",
       "      <th></th>\n",
       "      <th></th>\n",
       "      <th></th>\n",
       "      <th></th>\n",
       "      <th></th>\n",
       "      <th></th>\n",
       "    </tr>\n",
       "  </thead>\n",
       "  <tbody>\n",
       "    <tr>\n",
       "      <th>Far</th>\n",
       "      <td>58127.0</td>\n",
       "      <td>36065.241867</td>\n",
       "      <td>62796.689464</td>\n",
       "      <td>1590.0</td>\n",
       "      <td>11518.0</td>\n",
       "      <td>20181.0</td>\n",
       "      <td>35101.5</td>\n",
       "      <td>799325.0</td>\n",
       "    </tr>\n",
       "    <tr>\n",
       "      <th>Near</th>\n",
       "      <td>56353.0</td>\n",
       "      <td>37371.730218</td>\n",
       "      <td>62751.642991</td>\n",
       "      <td>1624.0</td>\n",
       "      <td>12539.0</td>\n",
       "      <td>21579.0</td>\n",
       "      <td>36920.0</td>\n",
       "      <td>795827.0</td>\n",
       "    </tr>\n",
       "  </tbody>\n",
       "</table>\n",
       "</div>"
      ],
      "text/plain": [
       "                  count          mean           std     min      25%      50%  \\\n",
       "Neighbour_dist                                                                  \n",
       "Far             58127.0  36065.241867  62796.689464  1590.0  11518.0  20181.0   \n",
       "Near            56353.0  37371.730218  62751.642991  1624.0  12539.0  21579.0   \n",
       "\n",
       "                    75%       max  \n",
       "Neighbour_dist                     \n",
       "Far             35101.5  799325.0  \n",
       "Near            36920.0  795827.0  "
      ]
     },
     "execution_count": 26,
     "metadata": {},
     "output_type": "execute_result"
    }
   ],
   "source": [
    "combined.groupby('Neighbour_dist')['price'].describe()"
   ]
  },
  {
   "cell_type": "code",
   "execution_count": 27,
   "id": "46fe61e0",
   "metadata": {},
   "outputs": [
    {
     "data": {
      "text/plain": [
       "<AxesSubplot:xlabel='Neighbour_dist', ylabel='price'>"
      ]
     },
     "execution_count": 27,
     "metadata": {},
     "output_type": "execute_result"
    },
    {
     "data": {
      "image/png": "[encoded data removed]",
      "text/plain": [
       "<Figure size 720x432 with 1 Axes>"
      ]
     },
     "metadata": {
      "needs_background": "light"
     },
     "output_type": "display_data"
    }
   ],
   "source": [
    "# neighbourhood distnace from metrostations/buststands or parks vs price\n",
    "sns.boxplot(combined['Neighbour_dist'], combined['price'])"
   ]
  },
  {
   "cell_type": "code",
   "execution_count": 28,
   "id": "a8ce3e2c",
   "metadata": {},
   "outputs": [
    {
     "data": {
      "text/html": [
       "<div>\n",
       "<style scoped>\n",
       "    .dataframe tbody tr th:only-of-type {\n",
       "        vertical-align: middle;\n",
       "    }\n",
       "\n",
       "    .dataframe tbody tr th {\n",
       "        vertical-align: top;\n",
       "    }\n",
       "\n",
       "    .dataframe thead th {\n",
       "        text-align: right;\n",
       "    }\n",
       "</style>\n",
       "<table border=\"1\" class=\"dataframe\">\n",
       "  <thead>\n",
       "    <tr style=\"text-align: right;\">\n",
       "      <th></th>\n",
       "      <th>Property_ID</th>\n",
       "      <th>room</th>\n",
       "      <th>layout_type</th>\n",
       "      <th>property_type</th>\n",
       "      <th>locality</th>\n",
       "      <th>area</th>\n",
       "      <th>furnish_type</th>\n",
       "      <th>bathroom</th>\n",
       "      <th>city</th>\n",
       "      <th>parking_spaces</th>\n",
       "      <th>floor</th>\n",
       "      <th>pet_friendly</th>\n",
       "      <th>power_backup</th>\n",
       "      <th>washing_machine</th>\n",
       "      <th>air_conditioner</th>\n",
       "      <th>geyser/solar</th>\n",
       "      <th>security_deposit</th>\n",
       "      <th>CCTV/security</th>\n",
       "      <th>lift</th>\n",
       "      <th>neighbourhood</th>\n",
       "      <th>price</th>\n",
       "      <th>Neighbour_dist</th>\n",
       "    </tr>\n",
       "  </thead>\n",
       "  <tbody>\n",
       "    <tr>\n",
       "      <th>0</th>\n",
       "      <td>100361</td>\n",
       "      <td>4</td>\n",
       "      <td>BHK</td>\n",
       "      <td>Apartment</td>\n",
       "      <td>Sodepur</td>\n",
       "      <td>805</td>\n",
       "      <td>Furnished</td>\n",
       "      <td>2</td>\n",
       "      <td>Kolkata</td>\n",
       "      <td>1</td>\n",
       "      <td>3</td>\n",
       "      <td>0</td>\n",
       "      <td>0</td>\n",
       "      <td>0</td>\n",
       "      <td>1</td>\n",
       "      <td>0</td>\n",
       "      <td>33012</td>\n",
       "      <td>0</td>\n",
       "      <td>0</td>\n",
       "      <td>1.5</td>\n",
       "      <td>4716.0</td>\n",
       "      <td>Near</td>\n",
       "    </tr>\n",
       "    <tr>\n",
       "      <th>1</th>\n",
       "      <td>66785</td>\n",
       "      <td>2</td>\n",
       "      <td>BHK</td>\n",
       "      <td>Apartment</td>\n",
       "      <td>Geetanjali Enclave</td>\n",
       "      <td>1093</td>\n",
       "      <td>Furnished</td>\n",
       "      <td>2</td>\n",
       "      <td>Delhi</td>\n",
       "      <td>1</td>\n",
       "      <td>9</td>\n",
       "      <td>0</td>\n",
       "      <td>0</td>\n",
       "      <td>0</td>\n",
       "      <td>1</td>\n",
       "      <td>0</td>\n",
       "      <td>74907</td>\n",
       "      <td>1</td>\n",
       "      <td>1</td>\n",
       "      <td>0.3</td>\n",
       "      <td>24969.0</td>\n",
       "      <td>Near</td>\n",
       "    </tr>\n",
       "    <tr>\n",
       "      <th>2</th>\n",
       "      <td>120243</td>\n",
       "      <td>2</td>\n",
       "      <td>RK</td>\n",
       "      <td>Independent Floor</td>\n",
       "      <td>Ghatkopar West</td>\n",
       "      <td>1227</td>\n",
       "      <td>Unfurnished</td>\n",
       "      <td>2</td>\n",
       "      <td>Mumbai</td>\n",
       "      <td>0</td>\n",
       "      <td>2</td>\n",
       "      <td>0</td>\n",
       "      <td>0</td>\n",
       "      <td>0</td>\n",
       "      <td>0</td>\n",
       "      <td>0</td>\n",
       "      <td>217314</td>\n",
       "      <td>1</td>\n",
       "      <td>0</td>\n",
       "      <td>1.3</td>\n",
       "      <td>24146.0</td>\n",
       "      <td>Near</td>\n",
       "    </tr>\n",
       "    <tr>\n",
       "      <th>3</th>\n",
       "      <td>96487</td>\n",
       "      <td>1</td>\n",
       "      <td>BHK</td>\n",
       "      <td>Apartment</td>\n",
       "      <td>New Town</td>\n",
       "      <td>1022</td>\n",
       "      <td>Furnished</td>\n",
       "      <td>3</td>\n",
       "      <td>Kolkata</td>\n",
       "      <td>0</td>\n",
       "      <td>8</td>\n",
       "      <td>1</td>\n",
       "      <td>0</td>\n",
       "      <td>0</td>\n",
       "      <td>1</td>\n",
       "      <td>0</td>\n",
       "      <td>217560</td>\n",
       "      <td>1</td>\n",
       "      <td>1</td>\n",
       "      <td>3.6</td>\n",
       "      <td>36260.0</td>\n",
       "      <td>Far</td>\n",
       "    </tr>\n",
       "    <tr>\n",
       "      <th>4</th>\n",
       "      <td>95695</td>\n",
       "      <td>2</td>\n",
       "      <td>BHK</td>\n",
       "      <td>Apartment</td>\n",
       "      <td>New Town</td>\n",
       "      <td>1403</td>\n",
       "      <td>Semi-Furnished</td>\n",
       "      <td>2</td>\n",
       "      <td>Kolkata</td>\n",
       "      <td>0</td>\n",
       "      <td>7</td>\n",
       "      <td>1</td>\n",
       "      <td>1</td>\n",
       "      <td>1</td>\n",
       "      <td>1</td>\n",
       "      <td>0</td>\n",
       "      <td>704624</td>\n",
       "      <td>1</td>\n",
       "      <td>1</td>\n",
       "      <td>0.2</td>\n",
       "      <td>176156.0</td>\n",
       "      <td>Near</td>\n",
       "    </tr>\n",
       "  </tbody>\n",
       "</table>\n",
       "</div>"
      ],
      "text/plain": [
       "   Property_ID  room layout_type      property_type            locality  area  \\\n",
       "0       100361     4         BHK          Apartment             Sodepur   805   \n",
       "1        66785     2         BHK          Apartment  Geetanjali Enclave  1093   \n",
       "2       120243     2          RK  Independent Floor      Ghatkopar West  1227   \n",
       "3        96487     1         BHK          Apartment            New Town  1022   \n",
       "4        95695     2         BHK          Apartment            New Town  1403   \n",
       "\n",
       "     furnish_type  bathroom     city  parking_spaces  floor  pet_friendly  \\\n",
       "0       Furnished         2  Kolkata               1      3             0   \n",
       "1       Furnished         2    Delhi               1      9             0   \n",
       "2     Unfurnished         2   Mumbai               0      2             0   \n",
       "3       Furnished         3  Kolkata               0      8             1   \n",
       "4  Semi-Furnished         2  Kolkata               0      7             1   \n",
       "\n",
       "   power_backup  washing_machine  air_conditioner  geyser/solar  \\\n",
       "0             0                0                1             0   \n",
       "1             0                0                1             0   \n",
       "2             0                0                0             0   \n",
       "3             0                0                1             0   \n",
       "4             1                1                1             0   \n",
       "\n",
       "   security_deposit  CCTV/security  lift  neighbourhood     price  \\\n",
       "0             33012              0     0            1.5    4716.0   \n",
       "1             74907              1     1            0.3   24969.0   \n",
       "2            217314              1     0            1.3   24146.0   \n",
       "3            217560              1     1            3.6   36260.0   \n",
       "4            704624              1     1            0.2  176156.0   \n",
       "\n",
       "  Neighbour_dist  \n",
       "0           Near  \n",
       "1           Near  \n",
       "2           Near  \n",
       "3            Far  \n",
       "4           Near  "
      ]
     },
     "execution_count": 28,
     "metadata": {},
     "output_type": "execute_result"
    }
   ],
   "source": [
    "combined.head()"
   ]
  },
  {
   "cell_type": "code",
   "execution_count": 29,
   "id": "f0a2b9fa",
   "metadata": {},
   "outputs": [
    {
     "data": {
      "text/plain": [
       "Property_ID           int64\n",
       "room                  int64\n",
       "layout_type          object\n",
       "property_type        object\n",
       "locality             object\n",
       "area                  int64\n",
       "furnish_type         object\n",
       "bathroom              int64\n",
       "city                 object\n",
       "parking_spaces        int64\n",
       "floor                 int64\n",
       "pet_friendly          int64\n",
       "power_backup          int64\n",
       "washing_machine       int64\n",
       "air_conditioner       int64\n",
       "geyser/solar          int64\n",
       "security_deposit      int64\n",
       "CCTV/security         int64\n",
       "lift                  int64\n",
       "neighbourhood       float64\n",
       "price               float64\n",
       "Neighbour_dist       object\n",
       "dtype: object"
      ]
     },
     "execution_count": 29,
     "metadata": {},
     "output_type": "execute_result"
    }
   ],
   "source": [
    "combined.dtypes"
   ]
  },
  {
   "cell_type": "code",
   "execution_count": 30,
   "id": "86ba3ba3",
   "metadata": {},
   "outputs": [],
   "source": [
    "# converting categroicla data which i stermed as numerical into categorical.\n",
    "\n",
    "combined['parking_spaces'] = combined['parking_spaces'].astype('object')\n",
    "combined['floor'] = combined['floor'].astype('object')\n",
    "combined['pet_friendly'] = combined['pet_friendly'].astype('object')\n",
    "combined['power_backup'] = combined['power_backup'].astype('object')\n",
    "combined['washing_machine'] = combined['washing_machine'].astype('object')\n",
    "combined['air_conditioner'] = combined['air_conditioner'].astype('object')\n",
    "combined['geyser/solar'] = combined['geyser/solar'].astype('object')\n",
    "combined['CCTV/security'] = combined['CCTV/security'].astype('object')\n",
    "combined['lift'] = combined['lift'].astype('object')"
   ]
  },
  {
   "cell_type": "code",
   "execution_count": 31,
   "id": "b295dd66",
   "metadata": {},
   "outputs": [
    {
     "data": {
      "text/plain": [
       "<AxesSubplot:xlabel='room', ylabel='price'>"
      ]
     },
     "execution_count": 31,
     "metadata": {},
     "output_type": "execute_result"
    },
    {
     "data": {
      "image/png": "[encoded data removed]",
      "text/plain": [
       "<Figure size 720x432 with 1 Axes>"
      ]
     },
     "metadata": {
      "needs_background": "light"
     },
     "output_type": "display_data"
    }
   ],
   "source": [
    "# room vs price\n",
    "\n",
    "sns.boxplot(x = 'room', y = 'price', data = combined)"
   ]
  },
  {
   "cell_type": "code",
   "execution_count": 32,
   "id": "d152679b",
   "metadata": {},
   "outputs": [
    {
     "data": {
      "text/html": [
       "<div>\n",
       "<style scoped>\n",
       "    .dataframe tbody tr th:only-of-type {\n",
       "        vertical-align: middle;\n",
       "    }\n",
       "\n",
       "    .dataframe tbody tr th {\n",
       "        vertical-align: top;\n",
       "    }\n",
       "\n",
       "    .dataframe thead th {\n",
       "        text-align: right;\n",
       "    }\n",
       "</style>\n",
       "<table border=\"1\" class=\"dataframe\">\n",
       "  <thead>\n",
       "    <tr style=\"text-align: right;\">\n",
       "      <th></th>\n",
       "      <th>count</th>\n",
       "      <th>mean</th>\n",
       "      <th>std</th>\n",
       "      <th>min</th>\n",
       "      <th>25%</th>\n",
       "      <th>50%</th>\n",
       "      <th>75%</th>\n",
       "      <th>max</th>\n",
       "    </tr>\n",
       "    <tr>\n",
       "      <th>room</th>\n",
       "      <th></th>\n",
       "      <th></th>\n",
       "      <th></th>\n",
       "      <th></th>\n",
       "      <th></th>\n",
       "      <th></th>\n",
       "      <th></th>\n",
       "      <th></th>\n",
       "    </tr>\n",
       "  </thead>\n",
       "  <tbody>\n",
       "    <tr>\n",
       "      <th>1</th>\n",
       "      <td>40845.0</td>\n",
       "      <td>31351.664439</td>\n",
       "      <td>62920.219946</td>\n",
       "      <td>1590.0</td>\n",
       "      <td>7590.00</td>\n",
       "      <td>14960.0</td>\n",
       "      <td>28284.00</td>\n",
       "      <td>796196.0</td>\n",
       "    </tr>\n",
       "    <tr>\n",
       "      <th>2</th>\n",
       "      <td>36676.0</td>\n",
       "      <td>39149.798969</td>\n",
       "      <td>59908.024849</td>\n",
       "      <td>1620.0</td>\n",
       "      <td>15287.00</td>\n",
       "      <td>24075.5</td>\n",
       "      <td>38948.25</td>\n",
       "      <td>798219.0</td>\n",
       "    </tr>\n",
       "    <tr>\n",
       "      <th>3</th>\n",
       "      <td>30682.0</td>\n",
       "      <td>40439.010690</td>\n",
       "      <td>64584.066264</td>\n",
       "      <td>1808.0</td>\n",
       "      <td>15236.25</td>\n",
       "      <td>24192.0</td>\n",
       "      <td>39636.50</td>\n",
       "      <td>799325.0</td>\n",
       "    </tr>\n",
       "    <tr>\n",
       "      <th>4</th>\n",
       "      <td>5474.0</td>\n",
       "      <td>38602.748265</td>\n",
       "      <td>65713.860041</td>\n",
       "      <td>1698.0</td>\n",
       "      <td>13083.25</td>\n",
       "      <td>21931.5</td>\n",
       "      <td>37124.00</td>\n",
       "      <td>799123.0</td>\n",
       "    </tr>\n",
       "    <tr>\n",
       "      <th>5</th>\n",
       "      <td>803.0</td>\n",
       "      <td>42211.078456</td>\n",
       "      <td>73825.909714</td>\n",
       "      <td>2350.0</td>\n",
       "      <td>13365.50</td>\n",
       "      <td>22791.0</td>\n",
       "      <td>37702.50</td>\n",
       "      <td>696716.0</td>\n",
       "    </tr>\n",
       "  </tbody>\n",
       "</table>\n",
       "</div>"
      ],
      "text/plain": [
       "        count          mean           std     min       25%      50%  \\\n",
       "room                                                                   \n",
       "1     40845.0  31351.664439  62920.219946  1590.0   7590.00  14960.0   \n",
       "2     36676.0  39149.798969  59908.024849  1620.0  15287.00  24075.5   \n",
       "3     30682.0  40439.010690  64584.066264  1808.0  15236.25  24192.0   \n",
       "4      5474.0  38602.748265  65713.860041  1698.0  13083.25  21931.5   \n",
       "5       803.0  42211.078456  73825.909714  2350.0  13365.50  22791.0   \n",
       "\n",
       "           75%       max  \n",
       "room                      \n",
       "1     28284.00  796196.0  \n",
       "2     38948.25  798219.0  \n",
       "3     39636.50  799325.0  \n",
       "4     37124.00  799123.0  \n",
       "5     37702.50  696716.0  "
      ]
     },
     "execution_count": 32,
     "metadata": {},
     "output_type": "execute_result"
    }
   ],
   "source": [
    "combined.groupby('room')['price'].describe()"
   ]
  },
  {
   "cell_type": "code",
   "execution_count": 33,
   "id": "f720d02f",
   "metadata": {},
   "outputs": [
    {
     "data": {
      "text/plain": [
       "<AxesSubplot:xlabel='bathroom', ylabel='price'>"
      ]
     },
     "execution_count": 33,
     "metadata": {},
     "output_type": "execute_result"
    },
    {
     "data": {
      "image/png": "[encoded data removed]",
      "text/plain": [
       "<Figure size 720x432 with 1 Axes>"
      ]
     },
     "metadata": {
      "needs_background": "light"
     },
     "output_type": "display_data"
    }
   ],
   "source": [
    "sns.boxplot(x = 'bathroom', y = 'price', data = combined)"
   ]
  },
  {
   "cell_type": "code",
   "execution_count": 34,
   "id": "fb364cbb",
   "metadata": {},
   "outputs": [
    {
     "data": {
      "text/html": [
       "<div>\n",
       "<style scoped>\n",
       "    .dataframe tbody tr th:only-of-type {\n",
       "        vertical-align: middle;\n",
       "    }\n",
       "\n",
       "    .dataframe tbody tr th {\n",
       "        vertical-align: top;\n",
       "    }\n",
       "\n",
       "    .dataframe thead th {\n",
       "        text-align: right;\n",
       "    }\n",
       "</style>\n",
       "<table border=\"1\" class=\"dataframe\">\n",
       "  <thead>\n",
       "    <tr style=\"text-align: right;\">\n",
       "      <th></th>\n",
       "      <th>count</th>\n",
       "      <th>mean</th>\n",
       "      <th>std</th>\n",
       "      <th>min</th>\n",
       "      <th>25%</th>\n",
       "      <th>50%</th>\n",
       "      <th>75%</th>\n",
       "      <th>max</th>\n",
       "    </tr>\n",
       "    <tr>\n",
       "      <th>room</th>\n",
       "      <th></th>\n",
       "      <th></th>\n",
       "      <th></th>\n",
       "      <th></th>\n",
       "      <th></th>\n",
       "      <th></th>\n",
       "      <th></th>\n",
       "      <th></th>\n",
       "    </tr>\n",
       "  </thead>\n",
       "  <tbody>\n",
       "    <tr>\n",
       "      <th>1</th>\n",
       "      <td>40845.0</td>\n",
       "      <td>31351.664439</td>\n",
       "      <td>62920.219946</td>\n",
       "      <td>1590.0</td>\n",
       "      <td>7590.00</td>\n",
       "      <td>14960.0</td>\n",
       "      <td>28284.00</td>\n",
       "      <td>796196.0</td>\n",
       "    </tr>\n",
       "    <tr>\n",
       "      <th>2</th>\n",
       "      <td>36676.0</td>\n",
       "      <td>39149.798969</td>\n",
       "      <td>59908.024849</td>\n",
       "      <td>1620.0</td>\n",
       "      <td>15287.00</td>\n",
       "      <td>24075.5</td>\n",
       "      <td>38948.25</td>\n",
       "      <td>798219.0</td>\n",
       "    </tr>\n",
       "    <tr>\n",
       "      <th>3</th>\n",
       "      <td>30682.0</td>\n",
       "      <td>40439.010690</td>\n",
       "      <td>64584.066264</td>\n",
       "      <td>1808.0</td>\n",
       "      <td>15236.25</td>\n",
       "      <td>24192.0</td>\n",
       "      <td>39636.50</td>\n",
       "      <td>799325.0</td>\n",
       "    </tr>\n",
       "    <tr>\n",
       "      <th>4</th>\n",
       "      <td>5474.0</td>\n",
       "      <td>38602.748265</td>\n",
       "      <td>65713.860041</td>\n",
       "      <td>1698.0</td>\n",
       "      <td>13083.25</td>\n",
       "      <td>21931.5</td>\n",
       "      <td>37124.00</td>\n",
       "      <td>799123.0</td>\n",
       "    </tr>\n",
       "    <tr>\n",
       "      <th>5</th>\n",
       "      <td>803.0</td>\n",
       "      <td>42211.078456</td>\n",
       "      <td>73825.909714</td>\n",
       "      <td>2350.0</td>\n",
       "      <td>13365.50</td>\n",
       "      <td>22791.0</td>\n",
       "      <td>37702.50</td>\n",
       "      <td>696716.0</td>\n",
       "    </tr>\n",
       "  </tbody>\n",
       "</table>\n",
       "</div>"
      ],
      "text/plain": [
       "        count          mean           std     min       25%      50%  \\\n",
       "room                                                                   \n",
       "1     40845.0  31351.664439  62920.219946  1590.0   7590.00  14960.0   \n",
       "2     36676.0  39149.798969  59908.024849  1620.0  15287.00  24075.5   \n",
       "3     30682.0  40439.010690  64584.066264  1808.0  15236.25  24192.0   \n",
       "4      5474.0  38602.748265  65713.860041  1698.0  13083.25  21931.5   \n",
       "5       803.0  42211.078456  73825.909714  2350.0  13365.50  22791.0   \n",
       "\n",
       "           75%       max  \n",
       "room                      \n",
       "1     28284.00  796196.0  \n",
       "2     38948.25  798219.0  \n",
       "3     39636.50  799325.0  \n",
       "4     37124.00  799123.0  \n",
       "5     37702.50  696716.0  "
      ]
     },
     "execution_count": 34,
     "metadata": {},
     "output_type": "execute_result"
    }
   ],
   "source": [
    "combined.groupby('room')['price'].describe()"
   ]
  },
  {
   "cell_type": "code",
   "execution_count": 35,
   "id": "66ca0e38",
   "metadata": {},
   "outputs": [],
   "source": [
    "combined[['room', 'bathroom']] = combined[['room', 'bathroom']].astype('object')"
   ]
  },
  {
   "cell_type": "code",
   "execution_count": 36,
   "id": "b09b79f9",
   "metadata": {},
   "outputs": [
    {
     "data": {
      "text/plain": [
       "<AxesSubplot:xlabel='city', ylabel='price'>"
      ]
     },
     "execution_count": 36,
     "metadata": {},
     "output_type": "execute_result"
    },
    {
     "data": {
      "image/png": "[encoded data removed]",
      "text/plain": [
       "<Figure size 720x432 with 1 Axes>"
      ]
     },
     "metadata": {
      "needs_background": "light"
     },
     "output_type": "display_data"
    }
   ],
   "source": [
    "sns.boxplot(x = 'city', y = 'price', data = combined)"
   ]
  },
  {
   "cell_type": "markdown",
   "id": "e8d177e7",
   "metadata": {},
   "source": [
    "* **Doing pd.get_dummies will create 8 columns, it will complicate our analysis.\n",
    "So, we will do the binning of city columns into north, west, south and east.**"
   ]
  },
  {
   "cell_type": "code",
   "execution_count": 37,
   "id": "543925f0",
   "metadata": {},
   "outputs": [],
   "source": [
    "# Dividing citites intoo north, eat west and south\n",
    "east = ['Kolkata']\n",
    "west = ['Pune', 'Mumbai']\n",
    "north = ['Delhi', 'Ahmedabad']\n",
    "south = ['Banglore', 'Chennai', \"Hyderabad\"]"
   ]
  },
  {
   "cell_type": "code",
   "execution_count": 38,
   "id": "2299e524",
   "metadata": {},
   "outputs": [],
   "source": [
    "def regions(x):\n",
    "    if x in north:\n",
    "        return \"North\"\n",
    "    elif x in south:\n",
    "        return 'South'\n",
    "    elif x in east:\n",
    "        return \"East\"\n",
    "    elif x in west:\n",
    "        return 'West'"
   ]
  },
  {
   "cell_type": "code",
   "execution_count": 39,
   "id": "f3e140c5",
   "metadata": {},
   "outputs": [],
   "source": [
    "combined[\"city_cat\"] = combined.city.apply(regions)"
   ]
  },
  {
   "cell_type": "code",
   "execution_count": 40,
   "id": "97a46a39",
   "metadata": {},
   "outputs": [
    {
     "data": {
      "text/plain": [
       "West     62623\n",
       "North    35802\n",
       "South    13371\n",
       "East      6795\n",
       "Name: city_cat, dtype: int64"
      ]
     },
     "execution_count": 40,
     "metadata": {},
     "output_type": "execute_result"
    }
   ],
   "source": [
    "combined[\"city_cat\"].value_counts()"
   ]
  },
  {
   "cell_type": "code",
   "execution_count": 41,
   "id": "894c2621",
   "metadata": {},
   "outputs": [
    {
     "data": {
      "text/plain": [
       "BHK    114684\n",
       "RK      19999\n",
       "Name: layout_type, dtype: int64"
      ]
     },
     "execution_count": 41,
     "metadata": {},
     "output_type": "execute_result"
    }
   ],
   "source": [
    "combined['layout_type'].value_counts()"
   ]
  },
  {
   "cell_type": "code",
   "execution_count": 42,
   "id": "7738a4e3",
   "metadata": {},
   "outputs": [
    {
     "data": {
      "text/html": [
       "<div>\n",
       "<style scoped>\n",
       "    .dataframe tbody tr th:only-of-type {\n",
       "        vertical-align: middle;\n",
       "    }\n",
       "\n",
       "    .dataframe tbody tr th {\n",
       "        vertical-align: top;\n",
       "    }\n",
       "\n",
       "    .dataframe thead th {\n",
       "        text-align: right;\n",
       "    }\n",
       "</style>\n",
       "<table border=\"1\" class=\"dataframe\">\n",
       "  <thead>\n",
       "    <tr style=\"text-align: right;\">\n",
       "      <th></th>\n",
       "      <th>count</th>\n",
       "      <th>unique</th>\n",
       "      <th>top</th>\n",
       "      <th>freq</th>\n",
       "    </tr>\n",
       "    <tr>\n",
       "      <th>room</th>\n",
       "      <th></th>\n",
       "      <th></th>\n",
       "      <th></th>\n",
       "      <th></th>\n",
       "    </tr>\n",
       "  </thead>\n",
       "  <tbody>\n",
       "    <tr>\n",
       "      <th>1</th>\n",
       "      <td>47908</td>\n",
       "      <td>2</td>\n",
       "      <td>BHK</td>\n",
       "      <td>38204</td>\n",
       "    </tr>\n",
       "    <tr>\n",
       "      <th>2</th>\n",
       "      <td>43235</td>\n",
       "      <td>2</td>\n",
       "      <td>BHK</td>\n",
       "      <td>38418</td>\n",
       "    </tr>\n",
       "    <tr>\n",
       "      <th>3</th>\n",
       "      <td>36125</td>\n",
       "      <td>2</td>\n",
       "      <td>BHK</td>\n",
       "      <td>31709</td>\n",
       "    </tr>\n",
       "    <tr>\n",
       "      <th>4</th>\n",
       "      <td>6465</td>\n",
       "      <td>2</td>\n",
       "      <td>BHK</td>\n",
       "      <td>5555</td>\n",
       "    </tr>\n",
       "    <tr>\n",
       "      <th>5</th>\n",
       "      <td>950</td>\n",
       "      <td>2</td>\n",
       "      <td>BHK</td>\n",
       "      <td>798</td>\n",
       "    </tr>\n",
       "  </tbody>\n",
       "</table>\n",
       "</div>"
      ],
      "text/plain": [
       "      count unique  top   freq\n",
       "room                          \n",
       "1     47908      2  BHK  38204\n",
       "2     43235      2  BHK  38418\n",
       "3     36125      2  BHK  31709\n",
       "4      6465      2  BHK   5555\n",
       "5       950      2  BHK    798"
      ]
     },
     "execution_count": 42,
     "metadata": {},
     "output_type": "execute_result"
    }
   ],
   "source": [
    "combined.groupby('room')['layout_type'].describe()"
   ]
  },
  {
   "cell_type": "code",
   "execution_count": 43,
   "id": "af1ff5f7",
   "metadata": {},
   "outputs": [
    {
     "data": {
      "text/html": [
       "<div>\n",
       "<style scoped>\n",
       "    .dataframe tbody tr th:only-of-type {\n",
       "        vertical-align: middle;\n",
       "    }\n",
       "\n",
       "    .dataframe tbody tr th {\n",
       "        vertical-align: top;\n",
       "    }\n",
       "\n",
       "    .dataframe thead th {\n",
       "        text-align: right;\n",
       "    }\n",
       "</style>\n",
       "<table border=\"1\" class=\"dataframe\">\n",
       "  <thead>\n",
       "    <tr style=\"text-align: right;\">\n",
       "      <th></th>\n",
       "      <th>count</th>\n",
       "      <th>unique</th>\n",
       "      <th>top</th>\n",
       "      <th>freq</th>\n",
       "    </tr>\n",
       "    <tr>\n",
       "      <th>layout_type</th>\n",
       "      <th></th>\n",
       "      <th></th>\n",
       "      <th></th>\n",
       "      <th></th>\n",
       "    </tr>\n",
       "  </thead>\n",
       "  <tbody>\n",
       "    <tr>\n",
       "      <th>BHK</th>\n",
       "      <td>114684</td>\n",
       "      <td>5</td>\n",
       "      <td>2</td>\n",
       "      <td>38418</td>\n",
       "    </tr>\n",
       "    <tr>\n",
       "      <th>RK</th>\n",
       "      <td>19999</td>\n",
       "      <td>5</td>\n",
       "      <td>1</td>\n",
       "      <td>9704</td>\n",
       "    </tr>\n",
       "  </tbody>\n",
       "</table>\n",
       "</div>"
      ],
      "text/plain": [
       "              count  unique  top   freq\n",
       "layout_type                            \n",
       "BHK          114684       5    2  38418\n",
       "RK            19999       5    1   9704"
      ]
     },
     "execution_count": 43,
     "metadata": {},
     "output_type": "execute_result"
    }
   ],
   "source": [
    "combined.groupby('layout_type')['room'].describe()"
   ]
  },
  {
   "cell_type": "code",
   "execution_count": 44,
   "id": "d491cd1b",
   "metadata": {},
   "outputs": [],
   "source": [
    "# converting RK into BHK where room no. >1\n",
    "\n",
    "combined.loc[(combined.layout_type == 'RK') & (combined.room >1), \n",
    "             'layout_type'] = 'BHK'"
   ]
  },
  {
   "cell_type": "code",
   "execution_count": 45,
   "id": "74a12018",
   "metadata": {},
   "outputs": [],
   "source": [
    "# Fixingonberting RK with no. of bathroom greater than 1.,\n",
    "# chnaging number of bathrooms to 1.\n",
    "\n",
    "combined.loc[(combined.layout_type == 'RK') & (combined.bathroom >1), 'bathroom'] = '1'"
   ]
  },
  {
   "cell_type": "code",
   "execution_count": 46,
   "id": "82bbbddb",
   "metadata": {},
   "outputs": [
    {
     "data": {
      "text/plain": [
       "3706"
      ]
     },
     "execution_count": 46,
     "metadata": {},
     "output_type": "execute_result"
    }
   ],
   "source": [
    "combined.locality.nunique()"
   ]
  },
  {
   "cell_type": "code",
   "execution_count": 47,
   "id": "c2cc8370",
   "metadata": {},
   "outputs": [
    {
     "data": {
      "text/html": [
       "<div>\n",
       "<style scoped>\n",
       "    .dataframe tbody tr th:only-of-type {\n",
       "        vertical-align: middle;\n",
       "    }\n",
       "\n",
       "    .dataframe tbody tr th {\n",
       "        vertical-align: top;\n",
       "    }\n",
       "\n",
       "    .dataframe thead th {\n",
       "        text-align: right;\n",
       "    }\n",
       "</style>\n",
       "<table border=\"1\" class=\"dataframe\">\n",
       "  <thead>\n",
       "    <tr style=\"text-align: right;\">\n",
       "      <th></th>\n",
       "      <th>Property_ID</th>\n",
       "      <th>room</th>\n",
       "      <th>layout_type</th>\n",
       "      <th>property_type</th>\n",
       "      <th>locality</th>\n",
       "      <th>area</th>\n",
       "      <th>furnish_type</th>\n",
       "      <th>bathroom</th>\n",
       "      <th>city</th>\n",
       "      <th>parking_spaces</th>\n",
       "      <th>floor</th>\n",
       "      <th>pet_friendly</th>\n",
       "      <th>power_backup</th>\n",
       "      <th>washing_machine</th>\n",
       "      <th>air_conditioner</th>\n",
       "      <th>geyser/solar</th>\n",
       "      <th>security_deposit</th>\n",
       "      <th>CCTV/security</th>\n",
       "      <th>lift</th>\n",
       "      <th>neighbourhood</th>\n",
       "      <th>price</th>\n",
       "      <th>Neighbour_dist</th>\n",
       "      <th>city_cat</th>\n",
       "    </tr>\n",
       "  </thead>\n",
       "  <tbody>\n",
       "    <tr>\n",
       "      <th>0</th>\n",
       "      <td>100361</td>\n",
       "      <td>4</td>\n",
       "      <td>BHK</td>\n",
       "      <td>Apartment</td>\n",
       "      <td>Sodepur</td>\n",
       "      <td>805</td>\n",
       "      <td>Furnished</td>\n",
       "      <td>2</td>\n",
       "      <td>Kolkata</td>\n",
       "      <td>1</td>\n",
       "      <td>3</td>\n",
       "      <td>0</td>\n",
       "      <td>0</td>\n",
       "      <td>0</td>\n",
       "      <td>1</td>\n",
       "      <td>0</td>\n",
       "      <td>33012</td>\n",
       "      <td>0</td>\n",
       "      <td>0</td>\n",
       "      <td>1.5</td>\n",
       "      <td>4716.0</td>\n",
       "      <td>Near</td>\n",
       "      <td>East</td>\n",
       "    </tr>\n",
       "    <tr>\n",
       "      <th>1</th>\n",
       "      <td>66785</td>\n",
       "      <td>2</td>\n",
       "      <td>BHK</td>\n",
       "      <td>Apartment</td>\n",
       "      <td>Geetanjali Enclave</td>\n",
       "      <td>1093</td>\n",
       "      <td>Furnished</td>\n",
       "      <td>2</td>\n",
       "      <td>Delhi</td>\n",
       "      <td>1</td>\n",
       "      <td>9</td>\n",
       "      <td>0</td>\n",
       "      <td>0</td>\n",
       "      <td>0</td>\n",
       "      <td>1</td>\n",
       "      <td>0</td>\n",
       "      <td>74907</td>\n",
       "      <td>1</td>\n",
       "      <td>1</td>\n",
       "      <td>0.3</td>\n",
       "      <td>24969.0</td>\n",
       "      <td>Near</td>\n",
       "      <td>North</td>\n",
       "    </tr>\n",
       "    <tr>\n",
       "      <th>2</th>\n",
       "      <td>120243</td>\n",
       "      <td>2</td>\n",
       "      <td>BHK</td>\n",
       "      <td>Independent Floor</td>\n",
       "      <td>Ghatkopar West</td>\n",
       "      <td>1227</td>\n",
       "      <td>Unfurnished</td>\n",
       "      <td>2</td>\n",
       "      <td>Mumbai</td>\n",
       "      <td>0</td>\n",
       "      <td>2</td>\n",
       "      <td>0</td>\n",
       "      <td>0</td>\n",
       "      <td>0</td>\n",
       "      <td>0</td>\n",
       "      <td>0</td>\n",
       "      <td>217314</td>\n",
       "      <td>1</td>\n",
       "      <td>0</td>\n",
       "      <td>1.3</td>\n",
       "      <td>24146.0</td>\n",
       "      <td>Near</td>\n",
       "      <td>West</td>\n",
       "    </tr>\n",
       "    <tr>\n",
       "      <th>3</th>\n",
       "      <td>96487</td>\n",
       "      <td>1</td>\n",
       "      <td>BHK</td>\n",
       "      <td>Apartment</td>\n",
       "      <td>New Town</td>\n",
       "      <td>1022</td>\n",
       "      <td>Furnished</td>\n",
       "      <td>3</td>\n",
       "      <td>Kolkata</td>\n",
       "      <td>0</td>\n",
       "      <td>8</td>\n",
       "      <td>1</td>\n",
       "      <td>0</td>\n",
       "      <td>0</td>\n",
       "      <td>1</td>\n",
       "      <td>0</td>\n",
       "      <td>217560</td>\n",
       "      <td>1</td>\n",
       "      <td>1</td>\n",
       "      <td>3.6</td>\n",
       "      <td>36260.0</td>\n",
       "      <td>Far</td>\n",
       "      <td>East</td>\n",
       "    </tr>\n",
       "    <tr>\n",
       "      <th>4</th>\n",
       "      <td>95695</td>\n",
       "      <td>2</td>\n",
       "      <td>BHK</td>\n",
       "      <td>Apartment</td>\n",
       "      <td>New Town</td>\n",
       "      <td>1403</td>\n",
       "      <td>Semi-Furnished</td>\n",
       "      <td>2</td>\n",
       "      <td>Kolkata</td>\n",
       "      <td>0</td>\n",
       "      <td>7</td>\n",
       "      <td>1</td>\n",
       "      <td>1</td>\n",
       "      <td>1</td>\n",
       "      <td>1</td>\n",
       "      <td>0</td>\n",
       "      <td>704624</td>\n",
       "      <td>1</td>\n",
       "      <td>1</td>\n",
       "      <td>0.2</td>\n",
       "      <td>176156.0</td>\n",
       "      <td>Near</td>\n",
       "      <td>East</td>\n",
       "    </tr>\n",
       "  </tbody>\n",
       "</table>\n",
       "</div>"
      ],
      "text/plain": [
       "   Property_ID room layout_type      property_type            locality  area  \\\n",
       "0       100361    4         BHK          Apartment             Sodepur   805   \n",
       "1        66785    2         BHK          Apartment  Geetanjali Enclave  1093   \n",
       "2       120243    2         BHK  Independent Floor      Ghatkopar West  1227   \n",
       "3        96487    1         BHK          Apartment            New Town  1022   \n",
       "4        95695    2         BHK          Apartment            New Town  1403   \n",
       "\n",
       "     furnish_type bathroom     city parking_spaces floor pet_friendly  \\\n",
       "0       Furnished        2  Kolkata              1     3            0   \n",
       "1       Furnished        2    Delhi              1     9            0   \n",
       "2     Unfurnished        2   Mumbai              0     2            0   \n",
       "3       Furnished        3  Kolkata              0     8            1   \n",
       "4  Semi-Furnished        2  Kolkata              0     7            1   \n",
       "\n",
       "  power_backup washing_machine air_conditioner geyser/solar  security_deposit  \\\n",
       "0            0               0               1            0             33012   \n",
       "1            0               0               1            0             74907   \n",
       "2            0               0               0            0            217314   \n",
       "3            0               0               1            0            217560   \n",
       "4            1               1               1            0            704624   \n",
       "\n",
       "  CCTV/security lift  neighbourhood     price Neighbour_dist city_cat  \n",
       "0             0    0            1.5    4716.0           Near     East  \n",
       "1             1    1            0.3   24969.0           Near    North  \n",
       "2             1    0            1.3   24146.0           Near     West  \n",
       "3             1    1            3.6   36260.0            Far     East  \n",
       "4             1    1            0.2  176156.0           Near     East  "
      ]
     },
     "execution_count": 47,
     "metadata": {},
     "output_type": "execute_result"
    }
   ],
   "source": [
    "combined.head()"
   ]
  },
  {
   "cell_type": "code",
   "execution_count": 48,
   "id": "200a67c3",
   "metadata": {},
   "outputs": [
    {
     "data": {
      "text/html": [
       "<div>\n",
       "<style scoped>\n",
       "    .dataframe tbody tr th:only-of-type {\n",
       "        vertical-align: middle;\n",
       "    }\n",
       "\n",
       "    .dataframe tbody tr th {\n",
       "        vertical-align: top;\n",
       "    }\n",
       "\n",
       "    .dataframe thead th {\n",
       "        text-align: right;\n",
       "    }\n",
       "</style>\n",
       "<table border=\"1\" class=\"dataframe\">\n",
       "  <thead>\n",
       "    <tr style=\"text-align: right;\">\n",
       "      <th></th>\n",
       "      <th>Property_ID</th>\n",
       "      <th>room</th>\n",
       "      <th>layout_type</th>\n",
       "      <th>property_type</th>\n",
       "      <th>locality</th>\n",
       "      <th>area</th>\n",
       "      <th>furnish_type</th>\n",
       "      <th>bathroom</th>\n",
       "      <th>city</th>\n",
       "      <th>parking_spaces</th>\n",
       "      <th>floor</th>\n",
       "      <th>pet_friendly</th>\n",
       "      <th>power_backup</th>\n",
       "      <th>washing_machine</th>\n",
       "      <th>air_conditioner</th>\n",
       "      <th>geyser/solar</th>\n",
       "      <th>security_deposit</th>\n",
       "      <th>CCTV/security</th>\n",
       "      <th>lift</th>\n",
       "      <th>neighbourhood</th>\n",
       "      <th>price</th>\n",
       "    </tr>\n",
       "  </thead>\n",
       "  <tbody>\n",
       "    <tr>\n",
       "      <th>0</th>\n",
       "      <td>100361</td>\n",
       "      <td>4</td>\n",
       "      <td>BHK</td>\n",
       "      <td>Apartment</td>\n",
       "      <td>Sodepur</td>\n",
       "      <td>805</td>\n",
       "      <td>Furnished</td>\n",
       "      <td>2</td>\n",
       "      <td>Kolkata</td>\n",
       "      <td>1</td>\n",
       "      <td>3</td>\n",
       "      <td>0</td>\n",
       "      <td>0</td>\n",
       "      <td>0</td>\n",
       "      <td>1</td>\n",
       "      <td>0</td>\n",
       "      <td>33012</td>\n",
       "      <td>0</td>\n",
       "      <td>0</td>\n",
       "      <td>1500</td>\n",
       "      <td>4716</td>\n",
       "    </tr>\n",
       "    <tr>\n",
       "      <th>1</th>\n",
       "      <td>66785</td>\n",
       "      <td>2</td>\n",
       "      <td>BHK</td>\n",
       "      <td>Apartment</td>\n",
       "      <td>Geetanjali Enclave</td>\n",
       "      <td>1093</td>\n",
       "      <td>Furnished</td>\n",
       "      <td>2</td>\n",
       "      <td>Delhi</td>\n",
       "      <td>1</td>\n",
       "      <td>9</td>\n",
       "      <td>0</td>\n",
       "      <td>0</td>\n",
       "      <td>0</td>\n",
       "      <td>1</td>\n",
       "      <td>0</td>\n",
       "      <td>74907</td>\n",
       "      <td>1</td>\n",
       "      <td>1</td>\n",
       "      <td>300</td>\n",
       "      <td>24969</td>\n",
       "    </tr>\n",
       "    <tr>\n",
       "      <th>2</th>\n",
       "      <td>120243</td>\n",
       "      <td>2</td>\n",
       "      <td>RK</td>\n",
       "      <td>Independent Floor</td>\n",
       "      <td>Ghatkopar West</td>\n",
       "      <td>1227</td>\n",
       "      <td>Unfurnished</td>\n",
       "      <td>2</td>\n",
       "      <td>Mumbai</td>\n",
       "      <td>0</td>\n",
       "      <td>2</td>\n",
       "      <td>0</td>\n",
       "      <td>0</td>\n",
       "      <td>0</td>\n",
       "      <td>0</td>\n",
       "      <td>0</td>\n",
       "      <td>217314</td>\n",
       "      <td>1</td>\n",
       "      <td>0</td>\n",
       "      <td>1300</td>\n",
       "      <td>24146</td>\n",
       "    </tr>\n",
       "    <tr>\n",
       "      <th>3</th>\n",
       "      <td>96487</td>\n",
       "      <td>1</td>\n",
       "      <td>BHK</td>\n",
       "      <td>Apartment</td>\n",
       "      <td>New Town</td>\n",
       "      <td>1022</td>\n",
       "      <td>Furnished</td>\n",
       "      <td>3</td>\n",
       "      <td>Kolkata</td>\n",
       "      <td>0</td>\n",
       "      <td>8</td>\n",
       "      <td>1</td>\n",
       "      <td>0</td>\n",
       "      <td>0</td>\n",
       "      <td>1</td>\n",
       "      <td>0</td>\n",
       "      <td>217560</td>\n",
       "      <td>1</td>\n",
       "      <td>1</td>\n",
       "      <td>3600</td>\n",
       "      <td>36260</td>\n",
       "    </tr>\n",
       "    <tr>\n",
       "      <th>4</th>\n",
       "      <td>95695</td>\n",
       "      <td>2</td>\n",
       "      <td>BHK</td>\n",
       "      <td>Apartment</td>\n",
       "      <td>New Town</td>\n",
       "      <td>1403</td>\n",
       "      <td>Semi-Furnished</td>\n",
       "      <td>2</td>\n",
       "      <td>Kolkata</td>\n",
       "      <td>0</td>\n",
       "      <td>7</td>\n",
       "      <td>1</td>\n",
       "      <td>1</td>\n",
       "      <td>1</td>\n",
       "      <td>1</td>\n",
       "      <td>0</td>\n",
       "      <td>704624</td>\n",
       "      <td>1</td>\n",
       "      <td>1</td>\n",
       "      <td>200</td>\n",
       "      <td>176156</td>\n",
       "    </tr>\n",
       "    <tr>\n",
       "      <th>...</th>\n",
       "      <td>...</td>\n",
       "      <td>...</td>\n",
       "      <td>...</td>\n",
       "      <td>...</td>\n",
       "      <td>...</td>\n",
       "      <td>...</td>\n",
       "      <td>...</td>\n",
       "      <td>...</td>\n",
       "      <td>...</td>\n",
       "      <td>...</td>\n",
       "      <td>...</td>\n",
       "      <td>...</td>\n",
       "      <td>...</td>\n",
       "      <td>...</td>\n",
       "      <td>...</td>\n",
       "      <td>...</td>\n",
       "      <td>...</td>\n",
       "      <td>...</td>\n",
       "      <td>...</td>\n",
       "      <td>...</td>\n",
       "      <td>...</td>\n",
       "    </tr>\n",
       "    <tr>\n",
       "      <th>114475</th>\n",
       "      <td>10901</td>\n",
       "      <td>1</td>\n",
       "      <td>RK</td>\n",
       "      <td>Apartment</td>\n",
       "      <td>Nikol</td>\n",
       "      <td>9334</td>\n",
       "      <td>Unfurnished</td>\n",
       "      <td>1</td>\n",
       "      <td>Ahmedabad</td>\n",
       "      <td>1</td>\n",
       "      <td>17</td>\n",
       "      <td>1</td>\n",
       "      <td>0</td>\n",
       "      <td>0</td>\n",
       "      <td>0</td>\n",
       "      <td>0</td>\n",
       "      <td>552732</td>\n",
       "      <td>1</td>\n",
       "      <td>1</td>\n",
       "      <td>2200</td>\n",
       "      <td>92122</td>\n",
       "    </tr>\n",
       "    <tr>\n",
       "      <th>114476</th>\n",
       "      <td>185583</td>\n",
       "      <td>3</td>\n",
       "      <td>RK</td>\n",
       "      <td>Studio Apartment</td>\n",
       "      <td>Vadgaon Budruk</td>\n",
       "      <td>593</td>\n",
       "      <td>Semi-Furnished</td>\n",
       "      <td>1</td>\n",
       "      <td>Pune</td>\n",
       "      <td>0</td>\n",
       "      <td>15</td>\n",
       "      <td>1</td>\n",
       "      <td>0</td>\n",
       "      <td>1</td>\n",
       "      <td>1</td>\n",
       "      <td>0</td>\n",
       "      <td>28782</td>\n",
       "      <td>0</td>\n",
       "      <td>1</td>\n",
       "      <td>1700</td>\n",
       "      <td>14391</td>\n",
       "    </tr>\n",
       "    <tr>\n",
       "      <th>114477</th>\n",
       "      <td>112402</td>\n",
       "      <td>1</td>\n",
       "      <td>RK</td>\n",
       "      <td>Independent Floor</td>\n",
       "      <td>Palava</td>\n",
       "      <td>827</td>\n",
       "      <td>Furnished</td>\n",
       "      <td>1</td>\n",
       "      <td>Mumbai</td>\n",
       "      <td>0</td>\n",
       "      <td>4</td>\n",
       "      <td>0</td>\n",
       "      <td>1</td>\n",
       "      <td>0</td>\n",
       "      <td>1</td>\n",
       "      <td>1</td>\n",
       "      <td>7140</td>\n",
       "      <td>1</td>\n",
       "      <td>0</td>\n",
       "      <td>2400</td>\n",
       "      <td>2380</td>\n",
       "    </tr>\n",
       "    <tr>\n",
       "      <th>114478</th>\n",
       "      <td>18272</td>\n",
       "      <td>3</td>\n",
       "      <td>BHK</td>\n",
       "      <td>Apartment</td>\n",
       "      <td>Ghatlodiya</td>\n",
       "      <td>2268</td>\n",
       "      <td>Semi-Furnished</td>\n",
       "      <td>2</td>\n",
       "      <td>Ahmedabad</td>\n",
       "      <td>1</td>\n",
       "      <td>2</td>\n",
       "      <td>1</td>\n",
       "      <td>0</td>\n",
       "      <td>1</td>\n",
       "      <td>1</td>\n",
       "      <td>0</td>\n",
       "      <td>33416</td>\n",
       "      <td>1</td>\n",
       "      <td>0</td>\n",
       "      <td>2200</td>\n",
       "      <td>16708</td>\n",
       "    </tr>\n",
       "    <tr>\n",
       "      <th>114479</th>\n",
       "      <td>131956</td>\n",
       "      <td>3</td>\n",
       "      <td>RK</td>\n",
       "      <td>Apartment</td>\n",
       "      <td>Mahim</td>\n",
       "      <td>1354</td>\n",
       "      <td>Semi-Furnished</td>\n",
       "      <td>3</td>\n",
       "      <td>Mumbai</td>\n",
       "      <td>1</td>\n",
       "      <td>9</td>\n",
       "      <td>0</td>\n",
       "      <td>1</td>\n",
       "      <td>1</td>\n",
       "      <td>1</td>\n",
       "      <td>1</td>\n",
       "      <td>176784</td>\n",
       "      <td>0</td>\n",
       "      <td>1</td>\n",
       "      <td>3700</td>\n",
       "      <td>44196</td>\n",
       "    </tr>\n",
       "  </tbody>\n",
       "</table>\n",
       "<p>114480 rows × 21 columns</p>\n",
       "</div>"
      ],
      "text/plain": [
       "        Property_ID  room layout_type      property_type            locality  \\\n",
       "0            100361     4         BHK          Apartment             Sodepur   \n",
       "1             66785     2         BHK          Apartment  Geetanjali Enclave   \n",
       "2            120243     2          RK  Independent Floor      Ghatkopar West   \n",
       "3             96487     1         BHK          Apartment            New Town   \n",
       "4             95695     2         BHK          Apartment            New Town   \n",
       "...             ...   ...         ...                ...                 ...   \n",
       "114475        10901     1          RK          Apartment               Nikol   \n",
       "114476       185583     3          RK   Studio Apartment      Vadgaon Budruk   \n",
       "114477       112402     1          RK  Independent Floor              Palava   \n",
       "114478        18272     3         BHK          Apartment          Ghatlodiya   \n",
       "114479       131956     3          RK          Apartment               Mahim   \n",
       "\n",
       "        area    furnish_type  bathroom       city  parking_spaces  floor  \\\n",
       "0        805       Furnished         2    Kolkata               1      3   \n",
       "1       1093       Furnished         2      Delhi               1      9   \n",
       "2       1227     Unfurnished         2     Mumbai               0      2   \n",
       "3       1022       Furnished         3    Kolkata               0      8   \n",
       "4       1403  Semi-Furnished         2    Kolkata               0      7   \n",
       "...      ...             ...       ...        ...             ...    ...   \n",
       "114475  9334     Unfurnished         1  Ahmedabad               1     17   \n",
       "114476   593  Semi-Furnished         1       Pune               0     15   \n",
       "114477   827       Furnished         1     Mumbai               0      4   \n",
       "114478  2268  Semi-Furnished         2  Ahmedabad               1      2   \n",
       "114479  1354  Semi-Furnished         3     Mumbai               1      9   \n",
       "\n",
       "        pet_friendly  power_backup  washing_machine  air_conditioner  \\\n",
       "0                  0             0                0                1   \n",
       "1                  0             0                0                1   \n",
       "2                  0             0                0                0   \n",
       "3                  1             0                0                1   \n",
       "4                  1             1                1                1   \n",
       "...              ...           ...              ...              ...   \n",
       "114475             1             0                0                0   \n",
       "114476             1             0                1                1   \n",
       "114477             0             1                0                1   \n",
       "114478             1             0                1                1   \n",
       "114479             0             1                1                1   \n",
       "\n",
       "        geyser/solar  security_deposit  CCTV/security  lift  neighbourhood  \\\n",
       "0                  0             33012              0     0           1500   \n",
       "1                  0             74907              1     1            300   \n",
       "2                  0            217314              1     0           1300   \n",
       "3                  0            217560              1     1           3600   \n",
       "4                  0            704624              1     1            200   \n",
       "...              ...               ...            ...   ...            ...   \n",
       "114475             0            552732              1     1           2200   \n",
       "114476             0             28782              0     1           1700   \n",
       "114477             1              7140              1     0           2400   \n",
       "114478             0             33416              1     0           2200   \n",
       "114479             1            176784              0     1           3700   \n",
       "\n",
       "         price  \n",
       "0         4716  \n",
       "1        24969  \n",
       "2        24146  \n",
       "3        36260  \n",
       "4       176156  \n",
       "...        ...  \n",
       "114475   92122  \n",
       "114476   14391  \n",
       "114477    2380  \n",
       "114478   16708  \n",
       "114479   44196  \n",
       "\n",
       "[114480 rows x 21 columns]"
      ]
     },
     "execution_count": 48,
     "metadata": {},
     "output_type": "execute_result"
    }
   ],
   "source": [
    "# split the data into train and test.\n",
    "train"
   ]
  },
  {
   "cell_type": "code",
   "execution_count": 49,
   "id": "2741b68d",
   "metadata": {},
   "outputs": [],
   "source": [
    "# map the locality\n",
    "encoded = train.groupby('locality')['price'].median()"
   ]
  },
  {
   "cell_type": "code",
   "execution_count": 50,
   "id": "60cb87d3",
   "metadata": {},
   "outputs": [
    {
     "data": {
      "text/plain": [
       "Thane West                     3127\n",
       "Chembur                        2461\n",
       "Andheri East                   2377\n",
       "Bopal                          2054\n",
       "Kharghar                       1819\n",
       "                               ... \n",
       "Block ED Dakshini Pitampura       1\n",
       "Khalapur                          1\n",
       "Pandwalan Khurd                   1\n",
       "Satellite Road                    1\n",
       "Classic Paradise Layout           1\n",
       "Name: locality, Length: 3706, dtype: int64"
      ]
     },
     "execution_count": 50,
     "metadata": {},
     "output_type": "execute_result"
    }
   ],
   "source": [
    "combined['locality'].value_counts()"
   ]
  },
  {
   "cell_type": "code",
   "execution_count": 51,
   "id": "f11e7bf1",
   "metadata": {},
   "outputs": [],
   "source": [
    "combined['locality'] = combined['locality'].map(encoded) "
   ]
  },
  {
   "cell_type": "code",
   "execution_count": 52,
   "id": "6f4d53b3",
   "metadata": {},
   "outputs": [
    {
     "data": {
      "text/plain": [
       "18998.0    3127\n",
       "19233.0    2461\n",
       "18955.5    2377\n",
       "19029.0    2169\n",
       "25863.5    2054\n",
       "           ... \n",
       "14159.0       1\n",
       "30662.0       1\n",
       "20275.0       1\n",
       "64777.0       1\n",
       "21510.0       1\n",
       "Name: locality, Length: 3382, dtype: int64"
      ]
     },
     "execution_count": 52,
     "metadata": {},
     "output_type": "execute_result"
    }
   ],
   "source": [
    "combined['locality'].value_counts()"
   ]
  },
  {
   "cell_type": "code",
   "execution_count": 53,
   "id": "3d41b4a7",
   "metadata": {},
   "outputs": [
    {
     "data": {
      "text/plain": [
       "Semi-Furnished    63646\n",
       "Unfurnished       41398\n",
       "Furnished         29639\n",
       "Name: furnish_type, dtype: int64"
      ]
     },
     "execution_count": 53,
     "metadata": {},
     "output_type": "execute_result"
    }
   ],
   "source": [
    "# mapping the furnish type\n",
    "combined['furnish_type'].value_counts()"
   ]
  },
  {
   "cell_type": "code",
   "execution_count": 54,
   "id": "09ccabdc",
   "metadata": {},
   "outputs": [],
   "source": [
    "furnish_enc = train.groupby('furnish_type')['price'].median()\n",
    "combined['furnish_type']= combined['furnish_type'].map(furnish_enc)"
   ]
  },
  {
   "cell_type": "code",
   "execution_count": 55,
   "id": "839b9757",
   "metadata": {},
   "outputs": [
    {
     "data": {
      "text/plain": [
       "23718.0    63646\n",
       "16047.0    41398\n",
       "21404.0    29639\n",
       "Name: furnish_type, dtype: int64"
      ]
     },
     "execution_count": 55,
     "metadata": {},
     "output_type": "execute_result"
    }
   ],
   "source": [
    "combined['furnish_type'].value_counts()"
   ]
  },
  {
   "cell_type": "code",
   "execution_count": 56,
   "id": "91adcac1",
   "metadata": {},
   "outputs": [],
   "source": [
    "# frew encoding for floor\n",
    "combined['floor_encoded'] = combined.floor.value_counts()/combined.shape[0]"
   ]
  },
  {
   "cell_type": "code",
   "execution_count": 57,
   "id": "de8a57ec",
   "metadata": {},
   "outputs": [
    {
     "data": {
      "text/html": [
       "<div>\n",
       "<style scoped>\n",
       "    .dataframe tbody tr th:only-of-type {\n",
       "        vertical-align: middle;\n",
       "    }\n",
       "\n",
       "    .dataframe tbody tr th {\n",
       "        vertical-align: top;\n",
       "    }\n",
       "\n",
       "    .dataframe thead th {\n",
       "        text-align: right;\n",
       "    }\n",
       "</style>\n",
       "<table border=\"1\" class=\"dataframe\">\n",
       "  <thead>\n",
       "    <tr style=\"text-align: right;\">\n",
       "      <th></th>\n",
       "      <th>Property_ID</th>\n",
       "      <th>room</th>\n",
       "      <th>layout_type</th>\n",
       "      <th>property_type</th>\n",
       "      <th>locality</th>\n",
       "      <th>area</th>\n",
       "      <th>furnish_type</th>\n",
       "      <th>bathroom</th>\n",
       "      <th>city</th>\n",
       "      <th>parking_spaces</th>\n",
       "      <th>floor</th>\n",
       "      <th>pet_friendly</th>\n",
       "      <th>power_backup</th>\n",
       "      <th>washing_machine</th>\n",
       "      <th>air_conditioner</th>\n",
       "      <th>geyser/solar</th>\n",
       "      <th>security_deposit</th>\n",
       "      <th>CCTV/security</th>\n",
       "      <th>lift</th>\n",
       "      <th>neighbourhood</th>\n",
       "      <th>price</th>\n",
       "      <th>Neighbour_dist</th>\n",
       "      <th>city_cat</th>\n",
       "      <th>floor_encoded</th>\n",
       "    </tr>\n",
       "  </thead>\n",
       "  <tbody>\n",
       "    <tr>\n",
       "      <th>0</th>\n",
       "      <td>100361</td>\n",
       "      <td>4</td>\n",
       "      <td>BHK</td>\n",
       "      <td>Apartment</td>\n",
       "      <td>17264.0</td>\n",
       "      <td>805</td>\n",
       "      <td>21404.0</td>\n",
       "      <td>2</td>\n",
       "      <td>Kolkata</td>\n",
       "      <td>1</td>\n",
       "      <td>3</td>\n",
       "      <td>0</td>\n",
       "      <td>0</td>\n",
       "      <td>0</td>\n",
       "      <td>1</td>\n",
       "      <td>0</td>\n",
       "      <td>33012</td>\n",
       "      <td>0</td>\n",
       "      <td>0</td>\n",
       "      <td>1.5</td>\n",
       "      <td>4716.0</td>\n",
       "      <td>Near</td>\n",
       "      <td>East</td>\n",
       "      <td>0.035246</td>\n",
       "    </tr>\n",
       "    <tr>\n",
       "      <th>1</th>\n",
       "      <td>66785</td>\n",
       "      <td>2</td>\n",
       "      <td>BHK</td>\n",
       "      <td>Apartment</td>\n",
       "      <td>21215.0</td>\n",
       "      <td>1093</td>\n",
       "      <td>21404.0</td>\n",
       "      <td>2</td>\n",
       "      <td>Delhi</td>\n",
       "      <td>1</td>\n",
       "      <td>9</td>\n",
       "      <td>0</td>\n",
       "      <td>0</td>\n",
       "      <td>0</td>\n",
       "      <td>1</td>\n",
       "      <td>0</td>\n",
       "      <td>74907</td>\n",
       "      <td>1</td>\n",
       "      <td>1</td>\n",
       "      <td>0.3</td>\n",
       "      <td>24969.0</td>\n",
       "      <td>Near</td>\n",
       "      <td>North</td>\n",
       "      <td>0.052620</td>\n",
       "    </tr>\n",
       "    <tr>\n",
       "      <th>2</th>\n",
       "      <td>120243</td>\n",
       "      <td>2</td>\n",
       "      <td>BHK</td>\n",
       "      <td>Independent Floor</td>\n",
       "      <td>20929.0</td>\n",
       "      <td>1227</td>\n",
       "      <td>16047.0</td>\n",
       "      <td>2</td>\n",
       "      <td>Mumbai</td>\n",
       "      <td>0</td>\n",
       "      <td>2</td>\n",
       "      <td>0</td>\n",
       "      <td>0</td>\n",
       "      <td>0</td>\n",
       "      <td>0</td>\n",
       "      <td>0</td>\n",
       "      <td>217314</td>\n",
       "      <td>1</td>\n",
       "      <td>0</td>\n",
       "      <td>1.3</td>\n",
       "      <td>24146.0</td>\n",
       "      <td>Near</td>\n",
       "      <td>West</td>\n",
       "      <td>0.093724</td>\n",
       "    </tr>\n",
       "    <tr>\n",
       "      <th>3</th>\n",
       "      <td>96487</td>\n",
       "      <td>1</td>\n",
       "      <td>BHK</td>\n",
       "      <td>Apartment</td>\n",
       "      <td>20678.0</td>\n",
       "      <td>1022</td>\n",
       "      <td>21404.0</td>\n",
       "      <td>3</td>\n",
       "      <td>Kolkata</td>\n",
       "      <td>0</td>\n",
       "      <td>8</td>\n",
       "      <td>1</td>\n",
       "      <td>0</td>\n",
       "      <td>0</td>\n",
       "      <td>1</td>\n",
       "      <td>0</td>\n",
       "      <td>217560</td>\n",
       "      <td>1</td>\n",
       "      <td>1</td>\n",
       "      <td>3.6</td>\n",
       "      <td>36260.0</td>\n",
       "      <td>Far</td>\n",
       "      <td>East</td>\n",
       "      <td>0.065814</td>\n",
       "    </tr>\n",
       "    <tr>\n",
       "      <th>4</th>\n",
       "      <td>95695</td>\n",
       "      <td>2</td>\n",
       "      <td>BHK</td>\n",
       "      <td>Apartment</td>\n",
       "      <td>20678.0</td>\n",
       "      <td>1403</td>\n",
       "      <td>23718.0</td>\n",
       "      <td>2</td>\n",
       "      <td>Kolkata</td>\n",
       "      <td>0</td>\n",
       "      <td>7</td>\n",
       "      <td>1</td>\n",
       "      <td>1</td>\n",
       "      <td>1</td>\n",
       "      <td>1</td>\n",
       "      <td>0</td>\n",
       "      <td>704624</td>\n",
       "      <td>1</td>\n",
       "      <td>1</td>\n",
       "      <td>0.2</td>\n",
       "      <td>176156.0</td>\n",
       "      <td>Near</td>\n",
       "      <td>East</td>\n",
       "      <td>0.061589</td>\n",
       "    </tr>\n",
       "  </tbody>\n",
       "</table>\n",
       "</div>"
      ],
      "text/plain": [
       "   Property_ID room layout_type      property_type  locality  area  \\\n",
       "0       100361    4         BHK          Apartment   17264.0   805   \n",
       "1        66785    2         BHK          Apartment   21215.0  1093   \n",
       "2       120243    2         BHK  Independent Floor   20929.0  1227   \n",
       "3        96487    1         BHK          Apartment   20678.0  1022   \n",
       "4        95695    2         BHK          Apartment   20678.0  1403   \n",
       "\n",
       "   furnish_type bathroom     city parking_spaces floor pet_friendly  \\\n",
       "0       21404.0        2  Kolkata              1     3            0   \n",
       "1       21404.0        2    Delhi              1     9            0   \n",
       "2       16047.0        2   Mumbai              0     2            0   \n",
       "3       21404.0        3  Kolkata              0     8            1   \n",
       "4       23718.0        2  Kolkata              0     7            1   \n",
       "\n",
       "  power_backup washing_machine air_conditioner geyser/solar  security_deposit  \\\n",
       "0            0               0               1            0             33012   \n",
       "1            0               0               1            0             74907   \n",
       "2            0               0               0            0            217314   \n",
       "3            0               0               1            0            217560   \n",
       "4            1               1               1            0            704624   \n",
       "\n",
       "  CCTV/security lift  neighbourhood     price Neighbour_dist city_cat  \\\n",
       "0             0    0            1.5    4716.0           Near     East   \n",
       "1             1    1            0.3   24969.0           Near    North   \n",
       "2             1    0            1.3   24146.0           Near     West   \n",
       "3             1    1            3.6   36260.0            Far     East   \n",
       "4             1    1            0.2  176156.0           Near     East   \n",
       "\n",
       "   floor_encoded  \n",
       "0       0.035246  \n",
       "1       0.052620  \n",
       "2       0.093724  \n",
       "3       0.065814  \n",
       "4       0.061589  "
      ]
     },
     "execution_count": 57,
     "metadata": {},
     "output_type": "execute_result"
    }
   ],
   "source": [
    "combined.head()"
   ]
  },
  {
   "cell_type": "code",
   "execution_count": 58,
   "id": "85896fc0",
   "metadata": {},
   "outputs": [],
   "source": [
    "# imputing locality with a dummy number\n",
    "combined.locality.fillna(-9999, inplace = True)"
   ]
  },
  {
   "cell_type": "code",
   "execution_count": 59,
   "id": "15195b80",
   "metadata": {},
   "outputs": [
    {
     "data": {
      "text/html": [
       "<div>\n",
       "<style scoped>\n",
       "    .dataframe tbody tr th:only-of-type {\n",
       "        vertical-align: middle;\n",
       "    }\n",
       "\n",
       "    .dataframe tbody tr th {\n",
       "        vertical-align: top;\n",
       "    }\n",
       "\n",
       "    .dataframe thead th {\n",
       "        text-align: right;\n",
       "    }\n",
       "</style>\n",
       "<table border=\"1\" class=\"dataframe\">\n",
       "  <thead>\n",
       "    <tr style=\"text-align: right;\">\n",
       "      <th></th>\n",
       "      <th>count</th>\n",
       "      <th>mean</th>\n",
       "      <th>std</th>\n",
       "      <th>min</th>\n",
       "      <th>25%</th>\n",
       "      <th>50%</th>\n",
       "      <th>75%</th>\n",
       "      <th>max</th>\n",
       "    </tr>\n",
       "    <tr>\n",
       "      <th>floor</th>\n",
       "      <th></th>\n",
       "      <th></th>\n",
       "      <th></th>\n",
       "      <th></th>\n",
       "      <th></th>\n",
       "      <th></th>\n",
       "      <th></th>\n",
       "      <th></th>\n",
       "    </tr>\n",
       "  </thead>\n",
       "  <tbody>\n",
       "    <tr>\n",
       "      <th>0</th>\n",
       "      <td>4031.0</td>\n",
       "      <td>38226.887869</td>\n",
       "      <td>64022.821530</td>\n",
       "      <td>1810.0</td>\n",
       "      <td>13424.00</td>\n",
       "      <td>22372.0</td>\n",
       "      <td>38164.50</td>\n",
       "      <td>782949.0</td>\n",
       "    </tr>\n",
       "    <tr>\n",
       "      <th>1</th>\n",
       "      <td>6041.0</td>\n",
       "      <td>37137.972852</td>\n",
       "      <td>65159.722254</td>\n",
       "      <td>1614.0</td>\n",
       "      <td>12177.00</td>\n",
       "      <td>20788.0</td>\n",
       "      <td>36027.00</td>\n",
       "      <td>796196.0</td>\n",
       "    </tr>\n",
       "    <tr>\n",
       "      <th>2</th>\n",
       "      <td>10804.0</td>\n",
       "      <td>35502.989263</td>\n",
       "      <td>64111.486726</td>\n",
       "      <td>1590.0</td>\n",
       "      <td>9893.00</td>\n",
       "      <td>18949.0</td>\n",
       "      <td>34543.00</td>\n",
       "      <td>798219.0</td>\n",
       "    </tr>\n",
       "    <tr>\n",
       "      <th>3</th>\n",
       "      <td>7533.0</td>\n",
       "      <td>34761.811762</td>\n",
       "      <td>63399.086911</td>\n",
       "      <td>1674.0</td>\n",
       "      <td>10271.00</td>\n",
       "      <td>19191.0</td>\n",
       "      <td>34263.00</td>\n",
       "      <td>780396.0</td>\n",
       "    </tr>\n",
       "    <tr>\n",
       "      <th>4</th>\n",
       "      <td>7046.0</td>\n",
       "      <td>35576.418393</td>\n",
       "      <td>61046.056676</td>\n",
       "      <td>1620.0</td>\n",
       "      <td>11019.50</td>\n",
       "      <td>20435.5</td>\n",
       "      <td>35522.50</td>\n",
       "      <td>792355.0</td>\n",
       "    </tr>\n",
       "    <tr>\n",
       "      <th>5</th>\n",
       "      <td>5893.0</td>\n",
       "      <td>36041.928559</td>\n",
       "      <td>59254.917307</td>\n",
       "      <td>1668.0</td>\n",
       "      <td>11889.00</td>\n",
       "      <td>20873.0</td>\n",
       "      <td>35793.00</td>\n",
       "      <td>756990.0</td>\n",
       "    </tr>\n",
       "    <tr>\n",
       "      <th>6</th>\n",
       "      <td>4946.0</td>\n",
       "      <td>37779.829357</td>\n",
       "      <td>61916.250196</td>\n",
       "      <td>1599.0</td>\n",
       "      <td>12696.75</td>\n",
       "      <td>21898.0</td>\n",
       "      <td>37452.50</td>\n",
       "      <td>787019.0</td>\n",
       "    </tr>\n",
       "    <tr>\n",
       "      <th>7</th>\n",
       "      <td>4203.0</td>\n",
       "      <td>36397.918630</td>\n",
       "      <td>60511.809365</td>\n",
       "      <td>1701.0</td>\n",
       "      <td>12700.00</td>\n",
       "      <td>21211.0</td>\n",
       "      <td>35866.50</td>\n",
       "      <td>799325.0</td>\n",
       "    </tr>\n",
       "    <tr>\n",
       "      <th>8</th>\n",
       "      <td>4495.0</td>\n",
       "      <td>36237.947275</td>\n",
       "      <td>62535.135661</td>\n",
       "      <td>1693.0</td>\n",
       "      <td>11594.00</td>\n",
       "      <td>21002.0</td>\n",
       "      <td>35290.00</td>\n",
       "      <td>799123.0</td>\n",
       "    </tr>\n",
       "    <tr>\n",
       "      <th>9</th>\n",
       "      <td>4772.0</td>\n",
       "      <td>35417.332775</td>\n",
       "      <td>58345.204807</td>\n",
       "      <td>1677.0</td>\n",
       "      <td>11496.25</td>\n",
       "      <td>20321.0</td>\n",
       "      <td>35130.75</td>\n",
       "      <td>781145.0</td>\n",
       "    </tr>\n",
       "    <tr>\n",
       "      <th>10</th>\n",
       "      <td>5333.0</td>\n",
       "      <td>36432.326645</td>\n",
       "      <td>59019.522756</td>\n",
       "      <td>1703.0</td>\n",
       "      <td>12241.00</td>\n",
       "      <td>21123.0</td>\n",
       "      <td>36791.00</td>\n",
       "      <td>792961.0</td>\n",
       "    </tr>\n",
       "    <tr>\n",
       "      <th>11</th>\n",
       "      <td>5300.0</td>\n",
       "      <td>38773.970189</td>\n",
       "      <td>68340.059309</td>\n",
       "      <td>1665.0</td>\n",
       "      <td>12609.25</td>\n",
       "      <td>21639.0</td>\n",
       "      <td>36477.25</td>\n",
       "      <td>784763.0</td>\n",
       "    </tr>\n",
       "    <tr>\n",
       "      <th>12</th>\n",
       "      <td>5096.0</td>\n",
       "      <td>36000.365581</td>\n",
       "      <td>59612.162548</td>\n",
       "      <td>1698.0</td>\n",
       "      <td>12675.00</td>\n",
       "      <td>21098.5</td>\n",
       "      <td>35670.00</td>\n",
       "      <td>794823.0</td>\n",
       "    </tr>\n",
       "    <tr>\n",
       "      <th>13</th>\n",
       "      <td>4901.0</td>\n",
       "      <td>36827.961845</td>\n",
       "      <td>58841.176048</td>\n",
       "      <td>1700.0</td>\n",
       "      <td>13533.00</td>\n",
       "      <td>22149.0</td>\n",
       "      <td>37168.00</td>\n",
       "      <td>779251.0</td>\n",
       "    </tr>\n",
       "    <tr>\n",
       "      <th>14</th>\n",
       "      <td>4381.0</td>\n",
       "      <td>36434.334855</td>\n",
       "      <td>55711.642476</td>\n",
       "      <td>1802.0</td>\n",
       "      <td>13490.00</td>\n",
       "      <td>21909.0</td>\n",
       "      <td>36175.00</td>\n",
       "      <td>773539.0</td>\n",
       "    </tr>\n",
       "    <tr>\n",
       "      <th>15</th>\n",
       "      <td>5982.0</td>\n",
       "      <td>37403.497492</td>\n",
       "      <td>61278.614048</td>\n",
       "      <td>1723.0</td>\n",
       "      <td>12726.00</td>\n",
       "      <td>21452.5</td>\n",
       "      <td>37111.50</td>\n",
       "      <td>794070.0</td>\n",
       "    </tr>\n",
       "    <tr>\n",
       "      <th>16</th>\n",
       "      <td>5479.0</td>\n",
       "      <td>39315.930644</td>\n",
       "      <td>67298.313314</td>\n",
       "      <td>1796.0</td>\n",
       "      <td>13362.00</td>\n",
       "      <td>21901.0</td>\n",
       "      <td>37108.00</td>\n",
       "      <td>793546.0</td>\n",
       "    </tr>\n",
       "    <tr>\n",
       "      <th>17</th>\n",
       "      <td>6891.0</td>\n",
       "      <td>37201.719054</td>\n",
       "      <td>66252.675682</td>\n",
       "      <td>1649.0</td>\n",
       "      <td>12122.00</td>\n",
       "      <td>20862.0</td>\n",
       "      <td>35750.00</td>\n",
       "      <td>794078.0</td>\n",
       "    </tr>\n",
       "    <tr>\n",
       "      <th>18</th>\n",
       "      <td>5199.0</td>\n",
       "      <td>38664.622427</td>\n",
       "      <td>66012.776922</td>\n",
       "      <td>1717.0</td>\n",
       "      <td>12747.00</td>\n",
       "      <td>21787.0</td>\n",
       "      <td>37125.00</td>\n",
       "      <td>780545.0</td>\n",
       "    </tr>\n",
       "    <tr>\n",
       "      <th>19</th>\n",
       "      <td>6154.0</td>\n",
       "      <td>36364.629997</td>\n",
       "      <td>66124.082584</td>\n",
       "      <td>1733.0</td>\n",
       "      <td>11705.25</td>\n",
       "      <td>19741.0</td>\n",
       "      <td>34554.75</td>\n",
       "      <td>771600.0</td>\n",
       "    </tr>\n",
       "  </tbody>\n",
       "</table>\n",
       "</div>"
      ],
      "text/plain": [
       "         count          mean           std     min       25%      50%  \\\n",
       "floor                                                                   \n",
       "0       4031.0  38226.887869  64022.821530  1810.0  13424.00  22372.0   \n",
       "1       6041.0  37137.972852  65159.722254  1614.0  12177.00  20788.0   \n",
       "2      10804.0  35502.989263  64111.486726  1590.0   9893.00  18949.0   \n",
       "3       7533.0  34761.811762  63399.086911  1674.0  10271.00  19191.0   \n",
       "4       7046.0  35576.418393  61046.056676  1620.0  11019.50  20435.5   \n",
       "5       5893.0  36041.928559  59254.917307  1668.0  11889.00  20873.0   \n",
       "6       4946.0  37779.829357  61916.250196  1599.0  12696.75  21898.0   \n",
       "7       4203.0  36397.918630  60511.809365  1701.0  12700.00  21211.0   \n",
       "8       4495.0  36237.947275  62535.135661  1693.0  11594.00  21002.0   \n",
       "9       4772.0  35417.332775  58345.204807  1677.0  11496.25  20321.0   \n",
       "10      5333.0  36432.326645  59019.522756  1703.0  12241.00  21123.0   \n",
       "11      5300.0  38773.970189  68340.059309  1665.0  12609.25  21639.0   \n",
       "12      5096.0  36000.365581  59612.162548  1698.0  12675.00  21098.5   \n",
       "13      4901.0  36827.961845  58841.176048  1700.0  13533.00  22149.0   \n",
       "14      4381.0  36434.334855  55711.642476  1802.0  13490.00  21909.0   \n",
       "15      5982.0  37403.497492  61278.614048  1723.0  12726.00  21452.5   \n",
       "16      5479.0  39315.930644  67298.313314  1796.0  13362.00  21901.0   \n",
       "17      6891.0  37201.719054  66252.675682  1649.0  12122.00  20862.0   \n",
       "18      5199.0  38664.622427  66012.776922  1717.0  12747.00  21787.0   \n",
       "19      6154.0  36364.629997  66124.082584  1733.0  11705.25  19741.0   \n",
       "\n",
       "            75%       max  \n",
       "floor                      \n",
       "0      38164.50  782949.0  \n",
       "1      36027.00  796196.0  \n",
       "2      34543.00  798219.0  \n",
       "3      34263.00  780396.0  \n",
       "4      35522.50  792355.0  \n",
       "5      35793.00  756990.0  \n",
       "6      37452.50  787019.0  \n",
       "7      35866.50  799325.0  \n",
       "8      35290.00  799123.0  \n",
       "9      35130.75  781145.0  \n",
       "10     36791.00  792961.0  \n",
       "11     36477.25  784763.0  \n",
       "12     35670.00  794823.0  \n",
       "13     37168.00  779251.0  \n",
       "14     36175.00  773539.0  \n",
       "15     37111.50  794070.0  \n",
       "16     37108.00  793546.0  \n",
       "17     35750.00  794078.0  \n",
       "18     37125.00  780545.0  \n",
       "19     34554.75  771600.0  "
      ]
     },
     "execution_count": 59,
     "metadata": {},
     "output_type": "execute_result"
    }
   ],
   "source": [
    "combined.groupby('floor')['price'].describe()\n",
    "# there is no diff in avg price onn the basis of floor number"
   ]
  },
  {
   "cell_type": "code",
   "execution_count": 60,
   "id": "ab84d13c",
   "metadata": {},
   "outputs": [],
   "source": [
    "# dropping variables\n",
    "combined.drop(['Property_ID', 'city', 'floor_encoded'], axis = 1, inplace = True)"
   ]
  },
  {
   "cell_type": "code",
   "execution_count": 61,
   "id": "b26d336d",
   "metadata": {},
   "outputs": [],
   "source": [
    "# target encoding on floor\n",
    "# since freq encoding didn't work very well as it fills the column with null values, \n",
    "# so we wil drop freq encoded column and will do target encoding\n",
    "floor_enc = train.groupby('floor')['price'].median()\n",
    "combined['floor_enc'] = combined.floor.map(floor_enc)"
   ]
  },
  {
   "cell_type": "code",
   "execution_count": 62,
   "id": "613871c3",
   "metadata": {},
   "outputs": [
    {
     "data": {
      "text/plain": [
       "room                    0\n",
       "layout_type             0\n",
       "property_type           0\n",
       "locality                0\n",
       "area                    0\n",
       "furnish_type            0\n",
       "bathroom                0\n",
       "parking_spaces          0\n",
       "floor                   0\n",
       "pet_friendly            0\n",
       "power_backup            0\n",
       "washing_machine         0\n",
       "air_conditioner         0\n",
       "geyser/solar            0\n",
       "security_deposit        0\n",
       "CCTV/security           0\n",
       "lift                    0\n",
       "neighbourhood           0\n",
       "price               20203\n",
       "Neighbour_dist          0\n",
       "city_cat            16092\n",
       "floor_enc               0\n",
       "dtype: int64"
      ]
     },
     "execution_count": 62,
     "metadata": {},
     "output_type": "execute_result"
    }
   ],
   "source": [
    "combined.isnull().sum()"
   ]
  },
  {
   "cell_type": "code",
   "execution_count": 63,
   "id": "ebdee4f5",
   "metadata": {},
   "outputs": [
    {
     "data": {
      "text/plain": [
       "array(['Apartment', 'Independent Floor', 'Independent House',\n",
       "       'Studio Apartment', 'Villa', 'Penthouse'], dtype=object)"
      ]
     },
     "execution_count": 63,
     "metadata": {},
     "output_type": "execute_result"
    }
   ],
   "source": [
    "combined.property_type.unique()"
   ]
  },
  {
   "cell_type": "code",
   "execution_count": 64,
   "id": "716462bc",
   "metadata": {},
   "outputs": [
    {
     "data": {
      "text/html": [
       "<div>\n",
       "<style scoped>\n",
       "    .dataframe tbody tr th:only-of-type {\n",
       "        vertical-align: middle;\n",
       "    }\n",
       "\n",
       "    .dataframe tbody tr th {\n",
       "        vertical-align: top;\n",
       "    }\n",
       "\n",
       "    .dataframe thead th {\n",
       "        text-align: right;\n",
       "    }\n",
       "</style>\n",
       "<table border=\"1\" class=\"dataframe\">\n",
       "  <thead>\n",
       "    <tr style=\"text-align: right;\">\n",
       "      <th></th>\n",
       "      <th>count</th>\n",
       "      <th>mean</th>\n",
       "      <th>std</th>\n",
       "      <th>min</th>\n",
       "      <th>25%</th>\n",
       "      <th>50%</th>\n",
       "      <th>75%</th>\n",
       "      <th>max</th>\n",
       "    </tr>\n",
       "    <tr>\n",
       "      <th>property_type</th>\n",
       "      <th></th>\n",
       "      <th></th>\n",
       "      <th></th>\n",
       "      <th></th>\n",
       "      <th></th>\n",
       "      <th></th>\n",
       "      <th></th>\n",
       "      <th></th>\n",
       "    </tr>\n",
       "  </thead>\n",
       "  <tbody>\n",
       "    <tr>\n",
       "      <th>Apartment</th>\n",
       "      <td>86819.0</td>\n",
       "      <td>1500.531635</td>\n",
       "      <td>1402.438179</td>\n",
       "      <td>81.0</td>\n",
       "      <td>773.00</td>\n",
       "      <td>1151.0</td>\n",
       "      <td>1625.00</td>\n",
       "      <td>13942.0</td>\n",
       "    </tr>\n",
       "    <tr>\n",
       "      <th>Independent Floor</th>\n",
       "      <td>25850.0</td>\n",
       "      <td>1468.648433</td>\n",
       "      <td>1426.029489</td>\n",
       "      <td>90.0</td>\n",
       "      <td>751.00</td>\n",
       "      <td>1087.0</td>\n",
       "      <td>1550.75</td>\n",
       "      <td>12786.0</td>\n",
       "    </tr>\n",
       "    <tr>\n",
       "      <th>Independent House</th>\n",
       "      <td>13408.0</td>\n",
       "      <td>1458.233592</td>\n",
       "      <td>1447.476796</td>\n",
       "      <td>104.0</td>\n",
       "      <td>741.00</td>\n",
       "      <td>1049.0</td>\n",
       "      <td>1511.25</td>\n",
       "      <td>13079.0</td>\n",
       "    </tr>\n",
       "    <tr>\n",
       "      <th>Penthouse</th>\n",
       "      <td>492.0</td>\n",
       "      <td>1410.014228</td>\n",
       "      <td>1488.929455</td>\n",
       "      <td>133.0</td>\n",
       "      <td>721.75</td>\n",
       "      <td>923.0</td>\n",
       "      <td>1419.50</td>\n",
       "      <td>11494.0</td>\n",
       "    </tr>\n",
       "    <tr>\n",
       "      <th>Studio Apartment</th>\n",
       "      <td>5723.0</td>\n",
       "      <td>1340.229425</td>\n",
       "      <td>1409.616379</td>\n",
       "      <td>100.0</td>\n",
       "      <td>698.00</td>\n",
       "      <td>842.0</td>\n",
       "      <td>1359.50</td>\n",
       "      <td>12070.0</td>\n",
       "    </tr>\n",
       "    <tr>\n",
       "      <th>Villa</th>\n",
       "      <td>2391.0</td>\n",
       "      <td>1350.099958</td>\n",
       "      <td>1391.392933</td>\n",
       "      <td>97.0</td>\n",
       "      <td>702.00</td>\n",
       "      <td>851.0</td>\n",
       "      <td>1388.00</td>\n",
       "      <td>11761.0</td>\n",
       "    </tr>\n",
       "  </tbody>\n",
       "</table>\n",
       "</div>"
      ],
      "text/plain": [
       "                     count         mean          std    min     25%     50%  \\\n",
       "property_type                                                                 \n",
       "Apartment          86819.0  1500.531635  1402.438179   81.0  773.00  1151.0   \n",
       "Independent Floor  25850.0  1468.648433  1426.029489   90.0  751.00  1087.0   \n",
       "Independent House  13408.0  1458.233592  1447.476796  104.0  741.00  1049.0   \n",
       "Penthouse            492.0  1410.014228  1488.929455  133.0  721.75   923.0   \n",
       "Studio Apartment    5723.0  1340.229425  1409.616379  100.0  698.00   842.0   \n",
       "Villa               2391.0  1350.099958  1391.392933   97.0  702.00   851.0   \n",
       "\n",
       "                       75%      max  \n",
       "property_type                        \n",
       "Apartment          1625.00  13942.0  \n",
       "Independent Floor  1550.75  12786.0  \n",
       "Independent House  1511.25  13079.0  \n",
       "Penthouse          1419.50  11494.0  \n",
       "Studio Apartment   1359.50  12070.0  \n",
       "Villa              1388.00  11761.0  "
      ]
     },
     "execution_count": 64,
     "metadata": {},
     "output_type": "execute_result"
    }
   ],
   "source": [
    "combined.groupby('property_type')['area'].describe()"
   ]
  },
  {
   "cell_type": "code",
   "execution_count": 65,
   "id": "cd094077",
   "metadata": {},
   "outputs": [],
   "source": [
    "# lets replace independent floor  with independent House\n",
    "combined.replace(to_replace = 'Independent Floor', value = 'Independent House', inplace = True)"
   ]
  },
  {
   "cell_type": "code",
   "execution_count": 66,
   "id": "696080ce",
   "metadata": {},
   "outputs": [
    {
     "data": {
      "text/html": [
       "<div>\n",
       "<style scoped>\n",
       "    .dataframe tbody tr th:only-of-type {\n",
       "        vertical-align: middle;\n",
       "    }\n",
       "\n",
       "    .dataframe tbody tr th {\n",
       "        vertical-align: top;\n",
       "    }\n",
       "\n",
       "    .dataframe thead th {\n",
       "        text-align: right;\n",
       "    }\n",
       "</style>\n",
       "<table border=\"1\" class=\"dataframe\">\n",
       "  <thead>\n",
       "    <tr style=\"text-align: right;\">\n",
       "      <th></th>\n",
       "      <th>count</th>\n",
       "      <th>mean</th>\n",
       "      <th>std</th>\n",
       "      <th>min</th>\n",
       "      <th>25%</th>\n",
       "      <th>50%</th>\n",
       "      <th>75%</th>\n",
       "      <th>max</th>\n",
       "    </tr>\n",
       "    <tr>\n",
       "      <th>property_type</th>\n",
       "      <th></th>\n",
       "      <th></th>\n",
       "      <th></th>\n",
       "      <th></th>\n",
       "      <th></th>\n",
       "      <th></th>\n",
       "      <th></th>\n",
       "      <th></th>\n",
       "    </tr>\n",
       "  </thead>\n",
       "  <tbody>\n",
       "    <tr>\n",
       "      <th>Apartment</th>\n",
       "      <td>86819.0</td>\n",
       "      <td>1500.531635</td>\n",
       "      <td>1402.438179</td>\n",
       "      <td>81.0</td>\n",
       "      <td>773.00</td>\n",
       "      <td>1151.0</td>\n",
       "      <td>1625.0</td>\n",
       "      <td>13942.0</td>\n",
       "    </tr>\n",
       "    <tr>\n",
       "      <th>Independent House</th>\n",
       "      <td>39258.0</td>\n",
       "      <td>1465.091395</td>\n",
       "      <td>1433.380669</td>\n",
       "      <td>90.0</td>\n",
       "      <td>748.00</td>\n",
       "      <td>1076.0</td>\n",
       "      <td>1536.0</td>\n",
       "      <td>13079.0</td>\n",
       "    </tr>\n",
       "    <tr>\n",
       "      <th>Penthouse</th>\n",
       "      <td>492.0</td>\n",
       "      <td>1410.014228</td>\n",
       "      <td>1488.929455</td>\n",
       "      <td>133.0</td>\n",
       "      <td>721.75</td>\n",
       "      <td>923.0</td>\n",
       "      <td>1419.5</td>\n",
       "      <td>11494.0</td>\n",
       "    </tr>\n",
       "    <tr>\n",
       "      <th>Studio Apartment</th>\n",
       "      <td>5723.0</td>\n",
       "      <td>1340.229425</td>\n",
       "      <td>1409.616379</td>\n",
       "      <td>100.0</td>\n",
       "      <td>698.00</td>\n",
       "      <td>842.0</td>\n",
       "      <td>1359.5</td>\n",
       "      <td>12070.0</td>\n",
       "    </tr>\n",
       "    <tr>\n",
       "      <th>Villa</th>\n",
       "      <td>2391.0</td>\n",
       "      <td>1350.099958</td>\n",
       "      <td>1391.392933</td>\n",
       "      <td>97.0</td>\n",
       "      <td>702.00</td>\n",
       "      <td>851.0</td>\n",
       "      <td>1388.0</td>\n",
       "      <td>11761.0</td>\n",
       "    </tr>\n",
       "  </tbody>\n",
       "</table>\n",
       "</div>"
      ],
      "text/plain": [
       "                     count         mean          std    min     25%     50%  \\\n",
       "property_type                                                                 \n",
       "Apartment          86819.0  1500.531635  1402.438179   81.0  773.00  1151.0   \n",
       "Independent House  39258.0  1465.091395  1433.380669   90.0  748.00  1076.0   \n",
       "Penthouse            492.0  1410.014228  1488.929455  133.0  721.75   923.0   \n",
       "Studio Apartment    5723.0  1340.229425  1409.616379  100.0  698.00   842.0   \n",
       "Villa               2391.0  1350.099958  1391.392933   97.0  702.00   851.0   \n",
       "\n",
       "                      75%      max  \n",
       "property_type                       \n",
       "Apartment          1625.0  13942.0  \n",
       "Independent House  1536.0  13079.0  \n",
       "Penthouse          1419.5  11494.0  \n",
       "Studio Apartment   1359.5  12070.0  \n",
       "Villa              1388.0  11761.0  "
      ]
     },
     "execution_count": 66,
     "metadata": {},
     "output_type": "execute_result"
    }
   ],
   "source": [
    "combined.groupby('property_type')['area'].describe()"
   ]
  },
  {
   "cell_type": "code",
   "execution_count": 67,
   "id": "3c413852",
   "metadata": {},
   "outputs": [
    {
     "data": {
      "text/plain": [
       "Apartment            5278\n",
       "Independent House    3292\n",
       "Studio Apartment      791\n",
       "Villa                 289\n",
       "Penthouse              54\n",
       "Name: property_type, dtype: int64"
      ]
     },
     "execution_count": 67,
     "metadata": {},
     "output_type": "execute_result"
    }
   ],
   "source": [
    "# we will have to fix the property type for RK\n",
    "combined.loc[combined.layout_type == 'RK', 'property_type'].value_counts()"
   ]
  },
  {
   "cell_type": "code",
   "execution_count": 68,
   "id": "bdab4b7a",
   "metadata": {},
   "outputs": [],
   "source": [
    "# from above, we can see that penthouse, studio apartment and vill into aone as mean price is of same range.\n",
    "\n",
    "combined.loc[(combined.layout_type == 'RK') & \n",
    "             (combined.property_type == 'Penthouse'), 'property_type'] = 'Studio Apartment'"
   ]
  },
  {
   "cell_type": "code",
   "execution_count": 69,
   "id": "05236896",
   "metadata": {},
   "outputs": [],
   "source": [
    "combined.loc[(combined.layout_type == 'RK') & \n",
    "             (combined.property_type == 'Villa'), 'property_type'] = 'Studio Apartment'"
   ]
  },
  {
   "cell_type": "code",
   "execution_count": 70,
   "id": "6f4a2fa4",
   "metadata": {},
   "outputs": [
    {
     "data": {
      "text/plain": [
       "Apartment            5278\n",
       "Independent House    3292\n",
       "Studio Apartment     1134\n",
       "Name: property_type, dtype: int64"
      ]
     },
     "execution_count": 70,
     "metadata": {},
     "output_type": "execute_result"
    }
   ],
   "source": [
    "#combining  penthouse, studio apartment and vill into category pf 'studio apartment'\n",
    "combined.loc[combined.layout_type == 'RK', 'property_type'].value_counts()"
   ]
  },
  {
   "cell_type": "code",
   "execution_count": 71,
   "id": "9a3f866e",
   "metadata": {},
   "outputs": [],
   "source": [
    "combined.drop('floor', axis = 1, inplace = True)"
   ]
  },
  {
   "cell_type": "code",
   "execution_count": 72,
   "id": "ecabf46b",
   "metadata": {},
   "outputs": [],
   "source": [
    "# chnaging bathroom into int data type\n",
    "combined['bathroom'] = combined.bathroom.astype('int')"
   ]
  },
  {
   "cell_type": "code",
   "execution_count": 73,
   "id": "f17a22e3",
   "metadata": {},
   "outputs": [
    {
     "data": {
      "text/plain": [
       "(134683, 26)"
      ]
     },
     "execution_count": 73,
     "metadata": {},
     "output_type": "execute_result"
    }
   ],
   "source": [
    "pd.get_dummies(combined, drop_first = True).shape"
   ]
  },
  {
   "cell_type": "code",
   "execution_count": 74,
   "id": "f83f0fdc",
   "metadata": {},
   "outputs": [
    {
     "data": {
      "text/plain": [
       "Index(['room', 'locality', 'area', 'furnish_type', 'bathroom',\n",
       "       'parking_spaces', 'pet_friendly', 'power_backup', 'washing_machine',\n",
       "       'air_conditioner', 'geyser/solar', 'security_deposit', 'CCTV/security',\n",
       "       'lift', 'neighbourhood', 'price', 'floor_enc', 'layout_type_RK',\n",
       "       'property_type_Independent House', 'property_type_Penthouse',\n",
       "       'property_type_Studio Apartment', 'property_type_Villa',\n",
       "       'Neighbour_dist_Near', 'city_cat_North', 'city_cat_South',\n",
       "       'city_cat_West'],\n",
       "      dtype='object')"
      ]
     },
     "execution_count": 74,
     "metadata": {},
     "output_type": "execute_result"
    }
   ],
   "source": [
    "pd.get_dummies(combined, drop_first = True).columns"
   ]
  },
  {
   "cell_type": "code",
   "execution_count": 75,
   "id": "2b094c62",
   "metadata": {},
   "outputs": [],
   "source": [
    "dummydata = pd.get_dummies(combined, drop_first = True)"
   ]
  },
  {
   "cell_type": "code",
   "execution_count": 76,
   "id": "1b199457",
   "metadata": {},
   "outputs": [
    {
     "data": {
      "text/plain": [
       "((114480, 21), (20203, 20))"
      ]
     },
     "execution_count": 76,
     "metadata": {},
     "output_type": "execute_result"
    }
   ],
   "source": [
    "train.shape, test.shape"
   ]
  },
  {
   "cell_type": "code",
   "execution_count": 77,
   "id": "dd107630",
   "metadata": {},
   "outputs": [
    {
     "data": {
      "text/plain": [
       "(114479, 26)"
      ]
     },
     "execution_count": 77,
     "metadata": {},
     "output_type": "execute_result"
    }
   ],
   "source": [
    "newtrain = dummydata.iloc[:train.shape[0]-1, :]\n",
    "newtrain.shape\n",
    "# iloc excludes the last value"
   ]
  },
  {
   "cell_type": "code",
   "execution_count": 78,
   "id": "814aed16",
   "metadata": {},
   "outputs": [],
   "source": [
    "newtrain = dummydata.loc[~(dummydata.price.isnull()), :]\n",
    "newtest = dummydata.loc[dummydata.price.isnull(), :]"
   ]
  },
  {
   "cell_type": "code",
   "execution_count": 79,
   "id": "be147ec3",
   "metadata": {},
   "outputs": [
    {
     "data": {
      "text/plain": [
       "((114480, 26), (20203, 26))"
      ]
     },
     "execution_count": 79,
     "metadata": {},
     "output_type": "execute_result"
    }
   ],
   "source": [
    "newtrain.shape, newtest.shape"
   ]
  },
  {
   "cell_type": "code",
   "execution_count": 80,
   "id": "36f88b87",
   "metadata": {},
   "outputs": [
    {
     "data": {
      "text/plain": [
       "Index(['room', 'locality', 'area', 'furnish_type', 'bathroom',\n",
       "       'parking_spaces', 'pet_friendly', 'power_backup', 'washing_machine',\n",
       "       'air_conditioner', 'geyser/solar', 'security_deposit', 'CCTV/security',\n",
       "       'lift', 'neighbourhood', 'price', 'floor_enc', 'layout_type_RK',\n",
       "       'property_type_Independent House', 'property_type_Penthouse',\n",
       "       'property_type_Studio Apartment', 'property_type_Villa',\n",
       "       'Neighbour_dist_Near', 'city_cat_North', 'city_cat_South',\n",
       "       'city_cat_West'],\n",
       "      dtype='object')"
      ]
     },
     "execution_count": 80,
     "metadata": {},
     "output_type": "execute_result"
    }
   ],
   "source": [
    "dummydata.select_dtypes(include = np.number).columns"
   ]
  },
  {
   "cell_type": "code",
   "execution_count": 81,
   "id": "d04cd752",
   "metadata": {},
   "outputs": [],
   "source": [
    "# Num variabels: for train data\n",
    "\n",
    "cols = ['locality', 'area', 'furnish_type', 'security_deposit', 'floor_enc', 'neighbourhood']\n",
    "localdata = newtrain.loc[:, cols]"
   ]
  },
  {
   "cell_type": "code",
   "execution_count": 82,
   "id": "bdff50b0",
   "metadata": {},
   "outputs": [],
   "source": [
    "from yellowbrick.cluster import KElbowVisualizer\n",
    "\n",
    "from sklearn.cluster import KMeans"
   ]
  },
  {
   "cell_type": "code",
   "execution_count": 83,
   "id": "e96fcf25",
   "metadata": {},
   "outputs": [],
   "source": [
    "model = KMeans(random_state=42)\n",
    "visul = KElbowVisualizer(estimator=model, k = (2,10))"
   ]
  },
  {
   "cell_type": "code",
   "execution_count": 84,
   "id": "587a71ef",
   "metadata": {},
   "outputs": [
    {
     "data": {
      "image/png": "[encoded data removed]",
      "text/plain": [
       "<Figure size 576x396 with 2 Axes>"
      ]
     },
     "metadata": {},
     "output_type": "display_data"
    },
    {
     "data": {
      "text/plain": [
       "<AxesSubplot:title={'center':'Distortion Score Elbow for KMeans Clustering'}, xlabel='k', ylabel='distortion score'>"
      ]
     },
     "execution_count": 84,
     "metadata": {},
     "output_type": "execute_result"
    }
   ],
   "source": [
    "visul.fit(localdata)\n",
    "visul.show()"
   ]
  },
  {
   "cell_type": "code",
   "execution_count": 85,
   "id": "b7d48615",
   "metadata": {},
   "outputs": [],
   "source": [
    "# fitting the clustering model\n",
    "\n",
    "kmeans = KMeans(n_clusters = 4, random_state= 42)\n",
    "newtrain['clusters'] = kmeans.fit_predict(localdata)"
   ]
  },
  {
   "cell_type": "code",
   "execution_count": 86,
   "id": "a1e675b9",
   "metadata": {},
   "outputs": [
    {
     "name": "stdout",
     "output_type": "stream",
     "text": [
      "                df        sum_sq       mean_sq           F  PR(>F)\n",
      "clusters       1.0  2.464058e+13  2.464058e+13  6613.45662     0.0\n",
      "Residual  114478.0  4.265249e+14  3.725824e+09         NaN     NaN\n"
     ]
    }
   ],
   "source": [
    "# apply Anova to check the significance of the clustres created.\n",
    "# Ho: That clusters labels have no significance wrt target\n",
    "# Ha: That clusters labels have significance wrt target\n",
    "\n",
    "from statsmodels.formula.api import ols\n",
    "olsmodel = ols('price~clusters', data = newtrain).fit()\n",
    "\n",
    "# print the anova table\n",
    "\n",
    "from statsmodels.stats.anova import anova_lm\n",
    "print(anova_lm(olsmodel))\n",
    "\n",
    "# pval = 0 i.e. < 0.05, we wil reject the Null Hypothesis\n",
    "# That is cluster have significance wrt Target.\n"
   ]
  },
  {
   "cell_type": "code",
   "execution_count": 87,
   "id": "fe3e437a",
   "metadata": {},
   "outputs": [],
   "source": [
    "# Num variabels: for test data\n",
    "\n",
    "col = ['locality', 'area', 'furnish_type', 'security_deposit', 'floor_enc', 'neighbourhood']\n",
    "localtest = newtest.loc[:, col]\n",
    "\n",
    "# fitting the clustering model\n",
    "\n",
    "kmeans = KMeans(n_clusters = 4, random_state= 42)\n",
    "newtest['clusters'] = kmeans.fit_predict(localtest)"
   ]
  },
  {
   "cell_type": "markdown",
   "id": "5ad709f2",
   "metadata": {},
   "source": [
    "## Model Building\n",
    "* 1. Base Model - Avg of Price\n",
    "* 2.  Decision Tree"
   ]
  },
  {
   "cell_type": "code",
   "execution_count": 88,
   "id": "e9d0d247",
   "metadata": {},
   "outputs": [],
   "source": [
    "pred = train.price.mean()\n",
    "\n",
    "submission = pd.DataFrame({'Property_ID':test.Property_ID,\n",
    "                          'price':pred})\n",
    "\n",
    "submission.to_csv(\"BaseModel.csv\", index = False)"
   ]
  },
  {
   "cell_type": "code",
   "execution_count": 89,
   "id": "91499f23",
   "metadata": {},
   "outputs": [],
   "source": [
    "from sklearn.model_selection import train_test_split\n",
    "\n",
    "X = newtrain.drop('price', axis =1)\n",
    "y = newtrain.price\n",
    "\n",
    "Xtrain, Xtest, ytrain, ytest = train_test_split(X, y , test_size= 0.2, \n",
    "                                               random_state = 1,\n",
    "                                               stratify= newtrain['clusters'])"
   ]
  },
  {
   "cell_type": "code",
   "execution_count": 90,
   "id": "a42ef50e-17fd-460b-91b5-c1e0b245eaf9",
   "metadata": {},
   "outputs": [
    {
     "data": {
      "text/plain": [
       "(22896, 26)"
      ]
     },
     "execution_count": 90,
     "metadata": {},
     "output_type": "execute_result"
    }
   ],
   "source": [
    "Xtest.shape"
   ]
  },
  {
   "cell_type": "code",
   "execution_count": 91,
   "id": "a7bb6fc6",
   "metadata": {},
   "outputs": [
    {
     "data": {
      "text/plain": [
       "Index(['room', 'locality', 'area', 'furnish_type', 'bathroom',\n",
       "       'parking_spaces', 'pet_friendly', 'power_backup', 'washing_machine',\n",
       "       'air_conditioner', 'geyser/solar', 'security_deposit', 'CCTV/security',\n",
       "       'lift', 'neighbourhood', 'floor_enc', 'layout_type_RK',\n",
       "       'property_type_Independent House', 'property_type_Penthouse',\n",
       "       'property_type_Studio Apartment', 'property_type_Villa',\n",
       "       'Neighbour_dist_Near', 'city_cat_North', 'city_cat_South',\n",
       "       'city_cat_West', 'clusters'],\n",
       "      dtype='object')"
      ]
     },
     "execution_count": 91,
     "metadata": {},
     "output_type": "execute_result"
    }
   ],
   "source": [
    "X.columns"
   ]
  },
  {
   "cell_type": "code",
   "execution_count": null,
   "id": "54d1e556-9b11-42d1-91e1-a5b486052be0",
   "metadata": {},
   "outputs": [],
   "source": []
  },
  {
   "cell_type": "code",
   "execution_count": 92,
   "id": "4c743fb1-9a8f-465c-bdeb-d3c70b65d488",
   "metadata": {},
   "outputs": [
    {
     "data": {
      "text/html": [
       "<div>\n",
       "<style scoped>\n",
       "    .dataframe tbody tr th:only-of-type {\n",
       "        vertical-align: middle;\n",
       "    }\n",
       "\n",
       "    .dataframe tbody tr th {\n",
       "        vertical-align: top;\n",
       "    }\n",
       "\n",
       "    .dataframe thead th {\n",
       "        text-align: right;\n",
       "    }\n",
       "</style>\n",
       "<table border=\"1\" class=\"dataframe\">\n",
       "  <thead>\n",
       "    <tr style=\"text-align: right;\">\n",
       "      <th></th>\n",
       "      <th>feature</th>\n",
       "      <th>VIF</th>\n",
       "    </tr>\n",
       "  </thead>\n",
       "  <tbody>\n",
       "    <tr>\n",
       "      <th>3</th>\n",
       "      <td>furnish_type</td>\n",
       "      <td>996.569776</td>\n",
       "    </tr>\n",
       "    <tr>\n",
       "      <th>9</th>\n",
       "      <td>air_conditioner</td>\n",
       "      <td>50.695248</td>\n",
       "    </tr>\n",
       "    <tr>\n",
       "      <th>8</th>\n",
       "      <td>washing_machine</td>\n",
       "      <td>8.651037</td>\n",
       "    </tr>\n",
       "    <tr>\n",
       "      <th>14</th>\n",
       "      <td>neighbourhood</td>\n",
       "      <td>3.740295</td>\n",
       "    </tr>\n",
       "    <tr>\n",
       "      <th>21</th>\n",
       "      <td>Neighbour_dist_Near</td>\n",
       "      <td>3.729381</td>\n",
       "    </tr>\n",
       "    <tr>\n",
       "      <th>24</th>\n",
       "      <td>city_cat_West</td>\n",
       "      <td>2.072194</td>\n",
       "    </tr>\n",
       "    <tr>\n",
       "      <th>22</th>\n",
       "      <td>city_cat_North</td>\n",
       "      <td>1.883495</td>\n",
       "    </tr>\n",
       "    <tr>\n",
       "      <th>23</th>\n",
       "      <td>city_cat_South</td>\n",
       "      <td>1.431940</td>\n",
       "    </tr>\n",
       "    <tr>\n",
       "      <th>15</th>\n",
       "      <td>floor_enc</td>\n",
       "      <td>1.254943</td>\n",
       "    </tr>\n",
       "    <tr>\n",
       "      <th>13</th>\n",
       "      <td>lift</td>\n",
       "      <td>1.244575</td>\n",
       "    </tr>\n",
       "    <tr>\n",
       "      <th>16</th>\n",
       "      <td>layout_type_RK</td>\n",
       "      <td>1.204364</td>\n",
       "    </tr>\n",
       "    <tr>\n",
       "      <th>0</th>\n",
       "      <td>room</td>\n",
       "      <td>1.176394</td>\n",
       "    </tr>\n",
       "    <tr>\n",
       "      <th>4</th>\n",
       "      <td>bathroom</td>\n",
       "      <td>1.158927</td>\n",
       "    </tr>\n",
       "    <tr>\n",
       "      <th>11</th>\n",
       "      <td>security_deposit</td>\n",
       "      <td>1.083953</td>\n",
       "    </tr>\n",
       "    <tr>\n",
       "      <th>25</th>\n",
       "      <td>clusters</td>\n",
       "      <td>1.068313</td>\n",
       "    </tr>\n",
       "    <tr>\n",
       "      <th>1</th>\n",
       "      <td>locality</td>\n",
       "      <td>1.058049</td>\n",
       "    </tr>\n",
       "    <tr>\n",
       "      <th>19</th>\n",
       "      <td>property_type_Studio Apartment</td>\n",
       "      <td>1.042229</td>\n",
       "    </tr>\n",
       "    <tr>\n",
       "      <th>17</th>\n",
       "      <td>property_type_Independent House</td>\n",
       "      <td>1.034607</td>\n",
       "    </tr>\n",
       "    <tr>\n",
       "      <th>20</th>\n",
       "      <td>property_type_Villa</td>\n",
       "      <td>1.012708</td>\n",
       "    </tr>\n",
       "    <tr>\n",
       "      <th>2</th>\n",
       "      <td>area</td>\n",
       "      <td>1.009519</td>\n",
       "    </tr>\n",
       "    <tr>\n",
       "      <th>5</th>\n",
       "      <td>parking_spaces</td>\n",
       "      <td>1.008297</td>\n",
       "    </tr>\n",
       "    <tr>\n",
       "      <th>6</th>\n",
       "      <td>pet_friendly</td>\n",
       "      <td>1.006243</td>\n",
       "    </tr>\n",
       "    <tr>\n",
       "      <th>10</th>\n",
       "      <td>geyser/solar</td>\n",
       "      <td>1.004855</td>\n",
       "    </tr>\n",
       "    <tr>\n",
       "      <th>7</th>\n",
       "      <td>power_backup</td>\n",
       "      <td>1.004259</td>\n",
       "    </tr>\n",
       "    <tr>\n",
       "      <th>18</th>\n",
       "      <td>property_type_Penthouse</td>\n",
       "      <td>1.002427</td>\n",
       "    </tr>\n",
       "    <tr>\n",
       "      <th>12</th>\n",
       "      <td>CCTV/security</td>\n",
       "      <td>1.002089</td>\n",
       "    </tr>\n",
       "  </tbody>\n",
       "</table>\n",
       "</div>"
      ],
      "text/plain": [
       "                            feature         VIF\n",
       "3                      furnish_type  996.569776\n",
       "9                   air_conditioner   50.695248\n",
       "8                   washing_machine    8.651037\n",
       "14                    neighbourhood    3.740295\n",
       "21              Neighbour_dist_Near    3.729381\n",
       "24                    city_cat_West    2.072194\n",
       "22                   city_cat_North    1.883495\n",
       "23                   city_cat_South    1.431940\n",
       "15                        floor_enc    1.254943\n",
       "13                             lift    1.244575\n",
       "16                   layout_type_RK    1.204364\n",
       "0                              room    1.176394\n",
       "4                          bathroom    1.158927\n",
       "11                 security_deposit    1.083953\n",
       "25                         clusters    1.068313\n",
       "1                          locality    1.058049\n",
       "19   property_type_Studio Apartment    1.042229\n",
       "17  property_type_Independent House    1.034607\n",
       "20              property_type_Villa    1.012708\n",
       "2                              area    1.009519\n",
       "5                    parking_spaces    1.008297\n",
       "6                      pet_friendly    1.006243\n",
       "10                     geyser/solar    1.004855\n",
       "7                      power_backup    1.004259\n",
       "18          property_type_Penthouse    1.002427\n",
       "12                    CCTV/security    1.002089"
      ]
     },
     "execution_count": 92,
     "metadata": {},
     "output_type": "execute_result"
    }
   ],
   "source": [
    "from statsmodels.stats.outliers_influence import variance_inflation_factor \n",
    "\n",
    "VIF= pd.DataFrame()\n",
    "VIF['feature']= X.columns\n",
    "VIF['VIF']= [variance_inflation_factor(X.values, i) for i in range(X.shape[1])]\n",
    "# take a look\n",
    "VIF\n",
    "\n",
    "\n",
    "\n",
    "VIF.sort_values(by=\"VIF\", ascending=False).head(100)\n",
    "\n",
    "\n",
    "# VIF.loc[VIF[\"VIF\"]>5]\n",
    "\n",
    "# Based on the VIF we would now be dropping the top 3 columns which have vif greater than 5\n",
    "## and try to predict our models once again and check agaain."
   ]
  },
  {
   "cell_type": "code",
   "execution_count": 93,
   "id": "e99b4021",
   "metadata": {},
   "outputs": [],
   "source": [
    "newtest.drop('price', axis = 1, inplace = True)"
   ]
  },
  {
   "cell_type": "code",
   "execution_count": 94,
   "id": "b8b6ff2f-e343-4451-9902-6babfe2939ee",
   "metadata": {},
   "outputs": [],
   "source": [
    "# xtrain=Xtrain.drop([\"furnish_type\",\"air_conditioner\",\"washing_machine\"],axis=1)"
   ]
  },
  {
   "cell_type": "code",
   "execution_count": 95,
   "id": "70775cca-edb6-435e-9be7-d5ff6c594795",
   "metadata": {},
   "outputs": [],
   "source": [
    "# newt=newtest.drop([\"furnish_type\",\"air_conditioner\",\"washing_machine\"],axis=1)"
   ]
  },
  {
   "cell_type": "code",
   "execution_count": null,
   "id": "2459075a-6268-4582-a93b-f0ddb29417b6",
   "metadata": {},
   "outputs": [],
   "source": []
  },
  {
   "cell_type": "code",
   "execution_count": 96,
   "id": "1bbf6361-ae08-41f4-a1bb-327c7b4f75a7",
   "metadata": {},
   "outputs": [],
   "source": [
    "# xtest=Xtest.drop([\"furnish_type\",\"air_conditioner\",\"washing_machine\"],axis=1)\n"
   ]
  },
  {
   "cell_type": "code",
   "execution_count": 97,
   "id": "817c5989-6881-41a2-8dd8-e0f4e2d5e5da",
   "metadata": {},
   "outputs": [],
   "source": [
    "# xtrain.shape, newt.shape"
   ]
  },
  {
   "cell_type": "code",
   "execution_count": 98,
   "id": "c0687894-4775-4176-8696-ce19c6691a66",
   "metadata": {},
   "outputs": [],
   "source": [
    "# ## fitting base model for the limited data\n",
    "\n",
    "# from sklearn.tree import DecisionTreeRegressor\n",
    "# from sklearn.metrics import mean_squared_error\n",
    "\n",
    "# dtree1 = DecisionTreeRegressor()\n",
    "# pred_dt1 = dtree1.fit(xtrain, ytrain).predict(newt)"
   ]
  },
  {
   "cell_type": "markdown",
   "id": "d6071b48-75cf-425b-a846-c1f98dd20b1a",
   "metadata": {},
   "source": [
    "sub = pd.DataFrame({'Property_ID':test.Property_ID,\n",
    "                          'price':pred_dt1})\n",
    "\n",
    "sub.to_csv(\"sub.csv\", index = False)"
   ]
  },
  {
   "cell_type": "code",
   "execution_count": 99,
   "id": "3248a9e7",
   "metadata": {},
   "outputs": [],
   "source": [
    "from sklearn.tree import DecisionTreeRegressor\n",
    "from sklearn.metrics import mean_squared_error\n",
    "\n",
    "dtree = DecisionTreeRegressor()\n",
    "pred_dt = dtree.fit(Xtrain, ytrain).predict(newtest)\n",
    "\n",
    "#print(\"RMSE for {} model is {}\".format('dtree', np.sqrt(mean_squared_error(ytest, model.predict(Xtest)))))"
   ]
  },
  {
   "cell_type": "code",
   "execution_count": 100,
   "id": "8266b4d9",
   "metadata": {},
   "outputs": [],
   "source": [
    "# submission = pd.DataFrame({'Property_ID':test.Property_ID,\n",
    "#                           'price':pred_dt})\n",
    "\n",
    "# submission.to_csv(\"DTModel.csv\", index = False)"
   ]
  },
  {
   "cell_type": "code",
   "execution_count": 101,
   "id": "165b63fd",
   "metadata": {},
   "outputs": [],
   "source": [
    "from sklearn.ensemble import RandomForestRegressor\n",
    "#from sklearn.metrics import mean_squared_error\n",
    "\n",
    "rf = RandomForestRegressor()\n",
    "pred_rf = rf.fit(Xtrain, ytrain).predict(newtest)\n",
    "\n",
    "#print(\"RMSE for {} model is {}\".format('RandomForest', np.sqrt(mean_squared_error(ytest, model.predict(Xtest)))))"
   ]
  },
  {
   "cell_type": "code",
   "execution_count": 102,
   "id": "69c4b6c6",
   "metadata": {},
   "outputs": [
    {
     "name": "stdout",
     "output_type": "stream",
     "text": [
      "RMSE for lgbm model is 26658.119216228144\n"
     ]
    }
   ],
   "source": [
    "# light gbm\n",
    "\n",
    "from lightgbm import LGBMRegressor\n",
    "lgbm = LGBMRegressor()\n",
    "pred_lgbm = lgbm.fit(Xtrain, ytrain).predict(newtest)\n",
    "print(\"RMSE for {} model is {}\".format('lgbm', np.sqrt(mean_squared_error(ytest, lgbm.predict(Xtest)))))"
   ]
  },
  {
   "cell_type": "code",
   "execution_count": 104,
   "id": "7c3204b9-2423-4c36-8077-7ba5cb2b3f96",
   "metadata": {},
   "outputs": [
    {
     "name": "stdout",
     "output_type": "stream",
     "text": [
      "RMSE for lgbm model is 26658.119216228144\n"
     ]
    }
   ],
   "source": [
    "# fitting lgbm with the new features\n",
    "\n",
    "\n",
    "# light gbm\n",
    "\n",
    "from lightgbm import LGBMRegressor\n",
    "lgbm = LGBMRegressor()\n",
    "pred_lgbm = lgbm.fit(Xtrain, ytrain).predict(newtest)\n",
    "print(\"RMSE for {} model is {}\".format('lgbm', np.sqrt(mean_squared_error(ytest, lgbm.predict(Xtest)))))"
   ]
  },
  {
   "cell_type": "code",
   "execution_count": 105,
   "id": "4703889e-8d41-4ad1-a922-76d71db5d56d",
   "metadata": {},
   "outputs": [],
   "source": [
    "# sub2 = pd.DataFrame({'Property_ID':test.Property_ID,\n",
    "#                           'price':pred_lgbm})\n",
    "\n",
    "# sub2.to_csv(\"sub2.csv\", index = False)"
   ]
  },
  {
   "cell_type": "code",
   "execution_count": 106,
   "id": "2956f5dc",
   "metadata": {},
   "outputs": [],
   "source": [
    "#sub = pd.read_csv('submission.csv')"
   ]
  },
  {
   "cell_type": "code",
   "execution_count": 107,
   "id": "26d16405",
   "metadata": {},
   "outputs": [],
   "source": [
    "# submission = pd.DataFrame({'Property_ID':test.Property_ID,\n",
    "#                           'price':pred_lgbm})\n",
    "\n",
    "# submission.to_csv(\"LGBMModel.csv\", index = False)"
   ]
  },
  {
   "cell_type": "code",
   "execution_count": 108,
   "id": "fe103f7f",
   "metadata": {},
   "outputs": [],
   "source": [
    "# light gbm\n",
    "\n",
    "from xgboost import XGBRegressor\n",
    "xgb = XGBRegressor()\n",
    "pred_xgbm = xgb.fit(Xtrain, ytrain).predict(newtest)\n",
    "#print(\"RMSE for {} model is {}\".format('XGBM', np.sqrt(mean_squared_error(ytest, lgbm.predict(Xtest)))))"
   ]
  },
  {
   "cell_type": "code",
   "execution_count": 109,
   "id": "50d6712d-9e5d-4b8b-a8b2-657b11705a0c",
   "metadata": {},
   "outputs": [],
   "source": [
    "# # light gbm\n",
    "\n",
    "# from xgboost import XGBRegressor\n",
    "# xgb = XGBRegressor()\n",
    "# pred_xgbm1 = xgb.fit(xtrain, ytrain).predict(newt)\n",
    "# #print(\"RMSE for {} model is {}\".format('XGBM', np.sqrt(mean_squared_error(ytest, lgbm.predict(Xtest)))))"
   ]
  },
  {
   "cell_type": "code",
   "execution_count": 110,
   "id": "1ae42a57-3348-4ac5-9f1c-7ae3e5ecb8c0",
   "metadata": {},
   "outputs": [],
   "source": [
    "# print(\"RMSE for {} model is {}\".format('XGBM', np.sqrt(mean_squared_error(ytest, xgb.predict(xtest)))))"
   ]
  },
  {
   "cell_type": "code",
   "execution_count": 111,
   "id": "bcd22960-ef98-4163-a263-8c550915aea2",
   "metadata": {},
   "outputs": [
    {
     "data": {
      "text/plain": [
       "((91584, 26), (91584,), (20203, 26))"
      ]
     },
     "execution_count": 111,
     "metadata": {},
     "output_type": "execute_result"
    }
   ],
   "source": [
    "Xtrain.shape,ytrain.shape,newtest.shape"
   ]
  },
  {
   "cell_type": "code",
   "execution_count": 112,
   "id": "95a0b383",
   "metadata": {},
   "outputs": [],
   "source": [
    "# print(\"RMSE for {} model is {}\".format('XGBM', np.sqrt(mean_squared_error(ytest, xgb.predict(Xtest)))))"
   ]
  },
  {
   "cell_type": "code",
   "execution_count": 113,
   "id": "b3e5c05e",
   "metadata": {},
   "outputs": [],
   "source": [
    "# submission = pd.DataFrame({'Property_ID':test.Property_ID,\n",
    "#                           'price':pred_xgbm})\n",
    "\n",
    "# submission.to_csv(\"XGBModel.csv\", index = False)"
   ]
  },
  {
   "cell_type": "code",
   "execution_count": 114,
   "id": "8cd059cb",
   "metadata": {},
   "outputs": [
    {
     "name": "stdout",
     "output_type": "stream",
     "text": [
      "RMSE for 10CV model is 60980.97257871361:\n"
     ]
    }
   ],
   "source": [
    "from sklearn.model_selection import KFold\n",
    "from sklearn.ensemble import GradientBoostingRegressor\n",
    "\n",
    "kfold = KFold(n_splits = 5,shuffle = True)\n",
    "\n",
    "gbm = GradientBoostingRegressor(random_state = 420)\n",
    "pred_model = pd.DataFrame()\n",
    "\n",
    "n =10\n",
    "for i in range(n):\n",
    "    folds = next(kfold.split(X))\n",
    "    xtrain = X.iloc[folds[0]]\n",
    "    ytrain = y.iloc[folds[0]]\n",
    "    pred_model[i] = gbm.fit(Xtrain, ytrain).predict(Xtest)\n",
    "    \n",
    "    \n",
    "vals = pred_model.median(axis=1)\n",
    "print(\"RMSE for {} model is {}:\".format(\"10CV\",\n",
    "                                       np.sqrt(mean_squared_error(ytest,\n",
    "                                                                 vals))))"
   ]
  },
  {
   "cell_type": "code",
   "execution_count": 115,
   "id": "d7106d78",
   "metadata": {},
   "outputs": [],
   "source": [
    "# stacking model with CV\n",
    "\n",
    "level_0 =  [('dtree', dtree),('rf', rf), ('XGBM', xgb), ('LGBM', lgbm) ]"
   ]
  },
  {
   "cell_type": "code",
   "execution_count": 116,
   "id": "f629853d",
   "metadata": {},
   "outputs": [],
   "source": [
    "level_0 =  [('rf', rf),  ('GBM', gbm) ]"
   ]
  },
  {
   "cell_type": "code",
   "execution_count": 117,
   "id": "2874e6ba",
   "metadata": {},
   "outputs": [],
   "source": [
    "from sklearn.ensemble import StackingRegressor"
   ]
  },
  {
   "cell_type": "code",
   "execution_count": 118,
   "id": "9280ac41",
   "metadata": {},
   "outputs": [],
   "source": [
    "stack = StackingRegressor(estimators= level_0, final_estimator= gbm)\n",
    "\n",
    "pred_model = pd.DataFrame()\n",
    "\n",
    "n =10\n",
    "for i in range(n):\n",
    "    folds = next(kfold.split(X))\n",
    "    xtrain = X.iloc[folds[0]]\n",
    "    ytrain = y.iloc[folds[0]]\n",
    "    pred_model[i] = gbm.fit(Xtrain, ytrain).predict(newtest)\n",
    "    \n",
    "    \n",
    "vals = pred_model.median(axis=1)\n",
    "#print(\"RMSE for {} model is {}:\".format(\"Stacking Model\",\n",
    "                                       #np.sqrt(mean_squared_error(ytest,\n",
    "                                       #                          gmb.predict(Xtest)))))"
   ]
  },
  {
   "cell_type": "code",
   "execution_count": 119,
   "id": "46f970f2",
   "metadata": {},
   "outputs": [
    {
     "data": {
      "text/plain": [
       "0        36846.616071\n",
       "1        35492.179288\n",
       "2        36434.325925\n",
       "3        36462.209248\n",
       "4        36862.355627\n",
       "             ...     \n",
       "20198    35332.742887\n",
       "20199    36512.352870\n",
       "20200    36465.484363\n",
       "20201    36530.359776\n",
       "20202    36580.307792\n",
       "Length: 20203, dtype: float64"
      ]
     },
     "execution_count": 119,
     "metadata": {},
     "output_type": "execute_result"
    }
   ],
   "source": [
    "vals"
   ]
  },
  {
   "cell_type": "code",
   "execution_count": 120,
   "id": "8e959fcb",
   "metadata": {},
   "outputs": [],
   "source": [
    "# submission = pd.DataFrame({'Property_ID':test.Property_ID,\n",
    "#                           'price':vals})\n",
    "\n",
    "# submission.to_csv(\"StackModel.csv\", index = False)\n"
   ]
  },
  {
   "cell_type": "code",
   "execution_count": 121,
   "id": "af21eea9",
   "metadata": {},
   "outputs": [
    {
     "data": {
      "text/plain": [
       "(20203, 20)"
      ]
     },
     "execution_count": 121,
     "metadata": {},
     "output_type": "execute_result"
    }
   ],
   "source": [
    "test.shape"
   ]
  },
  {
   "cell_type": "code",
   "execution_count": null,
   "id": "a1ed920a-6739-4170-aebd-ff5b41722c82",
   "metadata": {},
   "outputs": [],
   "source": []
  },
  {
   "cell_type": "code",
   "execution_count": null,
   "id": "c7851a98-4b60-4b77-8d78-015fec9af66f",
   "metadata": {},
   "outputs": [],
   "source": []
  },
  {
   "cell_type": "code",
   "execution_count": null,
   "id": "dc720991-8d2f-4109-9084-d5b66d4db214",
   "metadata": {},
   "outputs": [],
   "source": []
  },
  {
   "cell_type": "code",
   "execution_count": null,
   "id": "41799646-2637-46a7-a4b0-0a98fc3d25f7",
   "metadata": {},
   "outputs": [],
   "source": []
  }
 ],
 "metadata": {
  "kernelspec": {
   "display_name": "Python 3 (ipykernel)",
   "language": "python",
   "name": "python3"
  },
  "language_info": {
   "codemirror_mode": {
    "name": "ipython",
    "version": 3
   },
   "file_extension": ".py",
   "mimetype": "text/x-python",
   "name": "python",
   "nbconvert_exporter": "python",
   "pygments_lexer": "ipython3",
   "version": "3.9.7"
  }
 },
 "nbformat": 4,
 "nbformat_minor": 5
}
